{
 "cells": [
  {
   "cell_type": "code",
   "execution_count": 1,
   "metadata": {},
   "outputs": [],
   "source": [
    "import pandas as pd\n",
    "\n",
    "raw=pd.read_excel('Data/congestion.xlsx')"
   ]
  },
  {
   "cell_type": "code",
   "execution_count": 2,
   "metadata": {},
   "outputs": [],
   "source": [
    "cities1=list(raw.iloc[:,0])"
   ]
  },
  {
   "cell_type": "code",
   "execution_count": 3,
   "metadata": {},
   "outputs": [],
   "source": [
    "cities2=['Augsburg', 'Basel', 'Bern', 'Birmingham', 'Bolton', 'Bordeaux',\n",
    "       'Bremen', 'Cagliari', 'Constance', 'Darmstadt', 'Essen',\n",
    "       'Frankfurt', 'Graz', 'Groningen', 'Hamburg', 'Innsbruck', 'Kassel',\n",
    "       'London', 'Losanageles', 'Luzern', 'Madrid', 'Melbourne',\n",
    "       'Manchester', 'Marseille', 'Munich', 'Paris', 'Rotterdam',\n",
    "       'Santander', 'Speyer', 'Strasbourg', 'Stuttgart', 'Taipeh',\n",
    "       'Tokyo', 'Torino', 'Toronto', 'Toulouse', 'Utrecht', 'Vilnius',\n",
    "       'Wolfsburg', 'Zurich']"
   ]
  },
  {
   "cell_type": "code",
   "execution_count": 4,
   "metadata": {},
   "outputs": [
    {
     "data": {
      "text/plain": [
       "['Manchester',\n",
       " 'London',\n",
       " 'Bordeaux',\n",
       " 'Melbourne',\n",
       " 'Frankfurt',\n",
       " 'Hamburg',\n",
       " 'Toulouse',\n",
       " 'Paris',\n",
       " 'Birmingham',\n",
       " 'Madrid',\n",
       " 'Tokyo',\n",
       " 'Toronto',\n",
       " 'Munich',\n",
       " 'Zurich',\n",
       " 'Marseille']"
      ]
     },
     "execution_count": 4,
     "metadata": {},
     "output_type": "execute_result"
    }
   ],
   "source": [
    "list(set(cities1) & set(cities2))"
   ]
  },
  {
   "cell_type": "code",
   "execution_count": null,
   "metadata": {},
   "outputs": [],
   "source": []
  }
 ],
 "metadata": {
  "kernelspec": {
   "display_name": "Python 3",
   "language": "python",
   "name": "python3"
  },
  "language_info": {
   "codemirror_mode": {
    "name": "ipython",
    "version": 3
   },
   "file_extension": ".py",
   "mimetype": "text/x-python",
   "name": "python",
   "nbconvert_exporter": "python",
   "pygments_lexer": "ipython3",
   "version": "3.7.8"
  }
 },
 "nbformat": 4,
 "nbformat_minor": 4
}
