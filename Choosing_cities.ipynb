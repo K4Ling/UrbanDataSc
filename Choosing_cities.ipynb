{
 "cells": [
  {
   "cell_type": "code",
   "execution_count": 1,
   "metadata": {},
   "outputs": [],
   "source": [
    "import pandas as pd\n",
    "\n",
    "raw=pd.read_excel('Data/congestion.xlsx')"
   ]
  },
  {
   "cell_type": "code",
   "execution_count": 2,
   "metadata": {},
   "outputs": [],
   "source": [
    "cities1=list(raw.iloc[:,0])"
   ]
  },
  {
   "cell_type": "code",
   "execution_count": 3,
   "metadata": {},
   "outputs": [],
   "source": [
    "cities2=['Augsburg', 'Basel', 'Bern', 'Birmingham', 'Bolton', 'Bordeaux',\n",
    "       'Bremen', 'Cagliari', 'Constance', 'Darmstadt', 'Essen',\n",
    "       'Frankfurt', 'Graz', 'Groningen', 'Hamburg', 'Innsbruck', 'Kassel',\n",
    "       'London', 'Losanageles', 'Luzern', 'Madrid', 'Melbourne',\n",
    "       'Manchester', 'Marseille', 'Munich', 'Paris', 'Rotterdam',\n",
    "       'Santander', 'Speyer', 'Strasbourg', 'Stuttgart', 'Taipeh',\n",
    "       'Tokyo', 'Torino', 'Toronto', 'Toulouse', 'Utrecht', 'Vilnius',\n",
    "       'Wolfsburg', 'Zurich']"
   ]
  },
  {
   "cell_type": "code",
   "execution_count": 4,
   "metadata": {},
   "outputs": [
    {
     "data": {
      "text/plain": [
       "['Melbourne',\n",
       " 'Zurich',\n",
       " 'London',\n",
       " 'Madrid',\n",
       " 'Marseille',\n",
       " 'Birmingham',\n",
       " 'Manchester',\n",
       " 'Hamburg',\n",
       " 'Frankfurt',\n",
       " 'Munich',\n",
       " 'Toulouse',\n",
       " 'Paris',\n",
       " 'Toronto',\n",
       " 'Bordeaux',\n",
       " 'Tokyo']"
      ]
     },
     "execution_count": 4,
     "metadata": {},
     "output_type": "execute_result"
    }
   ],
   "source": [
    "list(set(cities1) & set(cities2))"
   ]
  },
  {
   "cell_type": "code",
   "execution_count": null,
   "metadata": {},
   "outputs": [],
   "source": []
  }
 ],
 "metadata": {
  "kernelspec": {
   "display_name": "Python 3",
   "language": "python",
   "name": "python3"
  },
  "language_info": {
   "codemirror_mode": {
    "name": "ipython",
    "version": 3
   },
   "file_extension": ".py",
   "mimetype": "text/x-python",
   "name": "python",
   "nbconvert_exporter": "python",
   "pygments_lexer": "ipython3",
   "version": "3.7.6"
  }
 },
 "nbformat": 4,
 "nbformat_minor": 4
}
