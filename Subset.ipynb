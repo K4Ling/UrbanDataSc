{
 "cells": [
  {
   "cell_type": "markdown",
   "metadata": {},
   "source": [
    "Five cities were chosen:\n",
    "1. Munich\n",
    "2. Rotterdam\n",
    "3. Frankfurt\n",
    "4. Hamburg\n",
    "5. Zurich\n",
    "\n",
    "\n",
    "The dataset was devided in 17 chunks of 10 million entries devided to be able to read in the chunks and check those for data of the selected cities. It was fount that only chunk 2,3, 4 and 17 contained information about the five cities. In the code below, those four chunks will be read, the data that we are interested in will be collected, and then put together in a data frame called mt (short for multi-traffic)."
   ]
  },
  {
   "cell_type": "code",
   "execution_count": 1,
   "metadata": {},
   "outputs": [],
   "source": [
    "# To select munich, rotterdam, frankfurt, hamburg, zurich\n",
    "import pandas as pd\n",
    "import numpy as np"
   ]
  },
  {
   "cell_type": "code",
   "execution_count": 2,
   "metadata": {},
   "outputs": [],
   "source": [
    "raw2=pd.read_csv('data/split/UTD19_chunk2.csv',dtype={'interval':np.int64,'detid':str,'flow':np.float64,'occ':np.float64,'error':np.float64,'city':str,'speed':np.float64})\n",
    "raw2=raw2.loc[(raw2['city'] =='munich') | (raw2['city'] =='rotterdam')| (raw2['city'] =='frankfurt')| (raw2['city'] =='hamburg')|(raw2['city'] =='zurich')]"
   ]
  },
  {
   "cell_type": "code",
   "execution_count": 3,
   "metadata": {},
   "outputs": [],
   "source": [
    "raw3=pd.read_csv('data/split/UTD19_chunk3.csv',dtype={'interval':np.int64,'detid':str,'flow':np.float64,'occ':np.float64,'error':np.float64,'city':str,'speed':np.float64})\n",
    "raw3=raw3.loc[(raw3['city'] =='munich') | (raw3['city'] =='rotterdam')| (raw3['city'] =='frankfurt')| (raw3['city'] =='hamburg')|(raw3['city'] =='zurich')]"
   ]
  },
  {
   "cell_type": "code",
   "execution_count": 4,
   "metadata": {},
   "outputs": [],
   "source": [
    "raw4=pd.read_csv('data/split/UTD19_chunk4.csv',dtype={'interval':np.int64,'detid':str,'flow':np.float64,'occ':np.float64,'error':np.float64,'city':str,'speed':np.float64})\n",
    "raw4=raw4.loc[(raw4['city'] =='munich') | (raw4['city'] =='rotterdam')| (raw4['city'] =='frankfurt')| (raw4['city'] =='hamburg')|(raw4['city'] =='zurich')]"
   ]
  },
  {
   "cell_type": "code",
   "execution_count": 5,
   "metadata": {},
   "outputs": [],
   "source": [
    "raw17=pd.read_csv('data/split/UTD19_chunk17.csv',dtype={'interval':np.int64,'detid':str,'flow':np.float64,'occ':np.float64,'error':np.float64,'city':str,'speed':np.float64})\n",
    "raw17=raw17.loc[(raw17['city'] =='munich') | (raw17['city'] =='rotterdam')| (raw17['city'] =='frankfurt')| (raw17['city'] =='hamburg')|(raw17['city'] =='zurich')]"
   ]
  },
  {
   "cell_type": "code",
   "execution_count": 7,
   "metadata": {},
   "outputs": [],
   "source": [
    "frames=[raw2,raw3,raw4,raw17]"
   ]
  },
  {
   "cell_type": "code",
   "execution_count": 9,
   "metadata": {},
   "outputs": [],
   "source": [
    "mt=pd.concat(frames)"
   ]
  },
  {
   "cell_type": "code",
   "execution_count": 11,
   "metadata": {},
   "outputs": [
    {
     "data": {
      "text/plain": [
       "(23871075, 8)"
      ]
     },
     "execution_count": 11,
     "metadata": {},
     "output_type": "execute_result"
    }
   ],
   "source": [
    "mt.shape\n",
    "#nice! Veel kleiner"
   ]
  },
  {
   "cell_type": "code",
   "execution_count": 12,
   "metadata": {},
   "outputs": [],
   "source": [
    "mt.to_csv('five_cities_cleaned.csv')"
   ]
  },
  {
   "cell_type": "code",
   "execution_count": null,
   "metadata": {},
   "outputs": [],
   "source": []
  },
  {
   "cell_type": "code",
   "execution_count": null,
   "metadata": {},
   "outputs": [],
   "source": []
  }
 ],
 "metadata": {
  "kernelspec": {
   "display_name": "Python 3",
   "language": "python",
   "name": "python3"
  },
  "language_info": {
   "codemirror_mode": {
    "name": "ipython",
    "version": 3
   },
   "file_extension": ".py",
   "mimetype": "text/x-python",
   "name": "python",
   "nbconvert_exporter": "python",
   "pygments_lexer": "ipython3",
   "version": "3.7.6"
  }
 },
 "nbformat": 4,
 "nbformat_minor": 4
}
