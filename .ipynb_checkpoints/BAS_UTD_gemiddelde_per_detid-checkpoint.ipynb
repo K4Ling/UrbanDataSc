{
 "cells": [
  {
   "cell_type": "code",
   "execution_count": 2,
   "metadata": {},
   "outputs": [],
   "source": [
    "import pandas as pd"
   ]
  },
  {
   "cell_type": "code",
   "execution_count": 3,
   "metadata": {},
   "outputs": [],
   "source": [
    "data_frankfurt = pd.read_csv('C:\\\\Users\\\\basre\\\\Desktop\\\\EPA 1316 - data science\\\\final\\\\data\\\\UTD_f.csv')\n",
    "data_hamburg = pd.read_csv('C:\\\\Users\\\\basre\\\\Desktop\\\\EPA 1316 - data science\\\\final\\\\data\\\\UTD_h.csv')\n",
    "data_munich = pd.read_csv('C:\\\\Users\\\\basre\\\\Desktop\\\\EPA 1316 - data science\\\\final\\\\data\\\\UTD_m.csv')\n",
    "data_rotterdam = pd.read_csv('C:\\\\Users\\\\basre\\\\Desktop\\\\EPA 1316 - data science\\\\final\\\\data\\\\UTD_r.csv')\n",
    "data_zurich = pd.read_csv('C:\\\\Users\\\\basre\\\\Desktop\\\\EPA 1316 - data science\\\\final\\\\data\\\\UTD_z.csv')"
   ]
  },
  {
   "cell_type": "code",
   "execution_count": 4,
   "metadata": {},
   "outputs": [
    {
     "data": {
      "text/html": [
       "<div>\n",
       "<style scoped>\n",
       "    .dataframe tbody tr th:only-of-type {\n",
       "        vertical-align: middle;\n",
       "    }\n",
       "\n",
       "    .dataframe tbody tr th {\n",
       "        vertical-align: top;\n",
       "    }\n",
       "\n",
       "    .dataframe thead th {\n",
       "        text-align: right;\n",
       "    }\n",
       "</style>\n",
       "<table border=\"1\" class=\"dataframe\">\n",
       "  <thead>\n",
       "    <tr style=\"text-align: right;\">\n",
       "      <th></th>\n",
       "      <th>Unnamed: 0</th>\n",
       "      <th>day</th>\n",
       "      <th>interval</th>\n",
       "      <th>detid</th>\n",
       "      <th>flow</th>\n",
       "      <th>occ</th>\n",
       "      <th>city</th>\n",
       "    </tr>\n",
       "  </thead>\n",
       "  <tbody>\n",
       "    <tr>\n",
       "      <th>0</th>\n",
       "      <td>943139</td>\n",
       "      <td>2016-12-21</td>\n",
       "      <td>0</td>\n",
       "      <td>BP2_D1</td>\n",
       "      <td>24</td>\n",
       "      <td>0.004967</td>\n",
       "      <td>frankfurt</td>\n",
       "    </tr>\n",
       "    <tr>\n",
       "      <th>1</th>\n",
       "      <td>943140</td>\n",
       "      <td>2016-12-21</td>\n",
       "      <td>300</td>\n",
       "      <td>BP2_D1</td>\n",
       "      <td>24</td>\n",
       "      <td>0.006900</td>\n",
       "      <td>frankfurt</td>\n",
       "    </tr>\n",
       "    <tr>\n",
       "      <th>2</th>\n",
       "      <td>943141</td>\n",
       "      <td>2016-12-21</td>\n",
       "      <td>600</td>\n",
       "      <td>BP2_D1</td>\n",
       "      <td>12</td>\n",
       "      <td>0.003567</td>\n",
       "      <td>frankfurt</td>\n",
       "    </tr>\n",
       "    <tr>\n",
       "      <th>3</th>\n",
       "      <td>943142</td>\n",
       "      <td>2016-12-21</td>\n",
       "      <td>900</td>\n",
       "      <td>BP2_D1</td>\n",
       "      <td>12</td>\n",
       "      <td>0.002667</td>\n",
       "      <td>frankfurt</td>\n",
       "    </tr>\n",
       "    <tr>\n",
       "      <th>4</th>\n",
       "      <td>943143</td>\n",
       "      <td>2016-12-21</td>\n",
       "      <td>1200</td>\n",
       "      <td>BP2_D1</td>\n",
       "      <td>12</td>\n",
       "      <td>0.002267</td>\n",
       "      <td>frankfurt</td>\n",
       "    </tr>\n",
       "  </tbody>\n",
       "</table>\n",
       "</div>"
      ],
      "text/plain": [
       "   Unnamed: 0         day  interval   detid  flow       occ       city\n",
       "0      943139  2016-12-21         0  BP2_D1    24  0.004967  frankfurt\n",
       "1      943140  2016-12-21       300  BP2_D1    24  0.006900  frankfurt\n",
       "2      943141  2016-12-21       600  BP2_D1    12  0.003567  frankfurt\n",
       "3      943142  2016-12-21       900  BP2_D1    12  0.002667  frankfurt\n",
       "4      943143  2016-12-21      1200  BP2_D1    12  0.002267  frankfurt"
      ]
     },
     "execution_count": 4,
     "metadata": {},
     "output_type": "execute_result"
    }
   ],
   "source": [
    "data_frankfurt.head()"
   ]
  },
  {
   "cell_type": "code",
   "execution_count": 5,
   "metadata": {},
   "outputs": [
    {
     "name": "stdout",
     "output_type": "stream",
     "text": [
      "<class 'pandas.core.frame.DataFrame'> <class 'pandas.core.frame.DataFrame'> <class 'pandas.core.frame.DataFrame'> <class 'pandas.core.frame.DataFrame'> <class 'pandas.core.frame.DataFrame'>\n"
     ]
    }
   ],
   "source": [
    "print(type(data_frankfurt),\n",
    "type(data_hamburg),\n",
    "type(data_munich),\n",
    "type(data_rotterdam),\n",
    "type(data_zurich ))"
   ]
  },
  {
   "cell_type": "code",
   "execution_count": 11,
   "metadata": {},
   "outputs": [],
   "source": [
    "frankfurt_detid_average = (data_frankfurt.groupby('detid').flow.mean()).to_frame(name = None)\n",
    "hamburg_detid_average = (data_hamburg.groupby('detid').flow.mean()).to_frame(name = None)\n",
    "munich_detid_average = (data_munich.groupby('detid').flow.mean()).to_frame(name = None)\n",
    "rotterdam_detid_average = (data_rotterdam.groupby('detid').flow.mean()).to_frame(name = None)\n",
    "zurich_detid_average = (data_zurich.groupby('detid').flow.mean()).to_frame(name = None)"
   ]
  },
  {
   "cell_type": "code",
   "execution_count": 13,
   "metadata": {},
   "outputs": [],
   "source": [
    "frankfurt_detid_average['city'] = 'frankfurt'\n",
    "hamburg_detid_average['city'] = 'hamburg'\n",
    "munich_detid_average['city'] = 'munich'\n",
    "rotterdam_detid_average['city'] =  'rotterdam'\n",
    "zurich_detid_average['city'] = 'zurich'"
   ]
  },
  {
   "cell_type": "code",
   "execution_count": 14,
   "metadata": {},
   "outputs": [
    {
     "data": {
      "text/html": [
       "<div>\n",
       "<style scoped>\n",
       "    .dataframe tbody tr th:only-of-type {\n",
       "        vertical-align: middle;\n",
       "    }\n",
       "\n",
       "    .dataframe tbody tr th {\n",
       "        vertical-align: top;\n",
       "    }\n",
       "\n",
       "    .dataframe thead th {\n",
       "        text-align: right;\n",
       "    }\n",
       "</style>\n",
       "<table border=\"1\" class=\"dataframe\">\n",
       "  <thead>\n",
       "    <tr style=\"text-align: right;\">\n",
       "      <th></th>\n",
       "      <th>flow</th>\n",
       "      <th>city</th>\n",
       "    </tr>\n",
       "    <tr>\n",
       "      <th>detid</th>\n",
       "      <th></th>\n",
       "      <th></th>\n",
       "    </tr>\n",
       "  </thead>\n",
       "  <tbody>\n",
       "    <tr>\n",
       "      <th>K101D11</th>\n",
       "      <td>194.748437</td>\n",
       "      <td>zurich</td>\n",
       "    </tr>\n",
       "    <tr>\n",
       "      <th>K101D13</th>\n",
       "      <td>267.508187</td>\n",
       "      <td>zurich</td>\n",
       "    </tr>\n",
       "    <tr>\n",
       "      <th>K101D14</th>\n",
       "      <td>213.337303</td>\n",
       "      <td>zurich</td>\n",
       "    </tr>\n",
       "    <tr>\n",
       "      <th>K103D11</th>\n",
       "      <td>259.029473</td>\n",
       "      <td>zurich</td>\n",
       "    </tr>\n",
       "    <tr>\n",
       "      <th>K103D13</th>\n",
       "      <td>77.499256</td>\n",
       "      <td>zurich</td>\n",
       "    </tr>\n",
       "  </tbody>\n",
       "</table>\n",
       "</div>"
      ],
      "text/plain": [
       "               flow    city\n",
       "detid                      \n",
       "K101D11  194.748437  zurich\n",
       "K101D13  267.508187  zurich\n",
       "K101D14  213.337303  zurich\n",
       "K103D11  259.029473  zurich\n",
       "K103D13   77.499256  zurich"
      ]
     },
     "execution_count": 14,
     "metadata": {},
     "output_type": "execute_result"
    }
   ],
   "source": [
    "zurich_detid_average.head()"
   ]
  },
  {
   "cell_type": "markdown",
   "metadata": {},
   "source": [
    "- Check if all detids are unique"
   ]
  },
  {
   "cell_type": "code",
   "execution_count": 23,
   "metadata": {},
   "outputs": [
    {
     "name": "stdout",
     "output_type": "stream",
     "text": [
      "all detids are unique\n"
     ]
    }
   ],
   "source": [
    "if  (len(frankfurt_detid_average) == frankfurt_detid_average.index.nunique()) & (len(hamburg_detid_average) == hamburg_detid_average.index.nunique()) & (len(munich_detid_average) == munich_detid_average.index.nunique()) & (len(rotterdam_detid_average) == rotterdam_detid_average.index.nunique()) & (len(zurich_detid_average) == zurich_detid_average.index.nunique()):\n",
    "    print('all detids are unique')"
   ]
  },
  {
   "cell_type": "code",
   "execution_count": 27,
   "metadata": {},
   "outputs": [],
   "source": [
    "Mean_perdetid = pd.concat([frankfurt_detid_average,\n",
    "                                  hamburg_detid_average,\n",
    "                                  munich_detid_average,\n",
    "                                  rotterdam_detid_average,\n",
    "                                  zurich_detid_average])\n",
    "          "
   ]
  },
  {
   "cell_type": "code",
   "execution_count": 28,
   "metadata": {},
   "outputs": [
    {
     "data": {
      "text/html": [
       "<div>\n",
       "<style scoped>\n",
       "    .dataframe tbody tr th:only-of-type {\n",
       "        vertical-align: middle;\n",
       "    }\n",
       "\n",
       "    .dataframe tbody tr th {\n",
       "        vertical-align: top;\n",
       "    }\n",
       "\n",
       "    .dataframe thead th {\n",
       "        text-align: right;\n",
       "    }\n",
       "</style>\n",
       "<table border=\"1\" class=\"dataframe\">\n",
       "  <thead>\n",
       "    <tr style=\"text-align: right;\">\n",
       "      <th></th>\n",
       "      <th>flow</th>\n",
       "      <th>city</th>\n",
       "    </tr>\n",
       "    <tr>\n",
       "      <th>detid</th>\n",
       "      <th></th>\n",
       "      <th></th>\n",
       "    </tr>\n",
       "  </thead>\n",
       "  <tbody>\n",
       "    <tr>\n",
       "      <th>BP2_D1</th>\n",
       "      <td>79.481781</td>\n",
       "      <td>frankfurt</td>\n",
       "    </tr>\n",
       "    <tr>\n",
       "      <th>BP2_D2</th>\n",
       "      <td>138.109091</td>\n",
       "      <td>frankfurt</td>\n",
       "    </tr>\n",
       "    <tr>\n",
       "      <th>BP2_D3</th>\n",
       "      <td>134.057143</td>\n",
       "      <td>frankfurt</td>\n",
       "    </tr>\n",
       "    <tr>\n",
       "      <th>BP4_D1(1)</th>\n",
       "      <td>309.166667</td>\n",
       "      <td>frankfurt</td>\n",
       "    </tr>\n",
       "    <tr>\n",
       "      <th>BP4_D10(3)</th>\n",
       "      <td>105.637066</td>\n",
       "      <td>frankfurt</td>\n",
       "    </tr>\n",
       "  </tbody>\n",
       "</table>\n",
       "</div>"
      ],
      "text/plain": [
       "                  flow       city\n",
       "detid                            \n",
       "BP2_D1       79.481781  frankfurt\n",
       "BP2_D2      138.109091  frankfurt\n",
       "BP2_D3      134.057143  frankfurt\n",
       "BP4_D1(1)   309.166667  frankfurt\n",
       "BP4_D10(3)  105.637066  frankfurt"
      ]
     },
     "execution_count": 28,
     "metadata": {},
     "output_type": "execute_result"
    }
   ],
   "source": [
    "Mean_perdetid.head()"
   ]
  },
  {
   "cell_type": "code",
   "execution_count": 30,
   "metadata": {},
   "outputs": [],
   "source": [
    "result = Mean_perdetid.to_csv('data\\\\UTD_Mean_Flow_per_detid.csv', index = True)#exporting data frame as csv file."
   ]
  },
  {
   "cell_type": "code",
   "execution_count": null,
   "metadata": {},
   "outputs": [],
   "source": []
  },
  {
   "cell_type": "code",
   "execution_count": null,
   "metadata": {},
   "outputs": [],
   "source": []
  }
 ],
 "metadata": {
  "kernelspec": {
   "display_name": "Python 3",
   "language": "python",
   "name": "python3"
  },
  "language_info": {
   "codemirror_mode": {
    "name": "ipython",
    "version": 3
   },
   "file_extension": ".py",
   "mimetype": "text/x-python",
   "name": "python",
   "nbconvert_exporter": "python",
   "pygments_lexer": "ipython3",
   "version": "3.6.10"
  }
 },
 "nbformat": 4,
 "nbformat_minor": 4
}
