{
 "cells": [
  {
   "cell_type": "markdown",
   "metadata": {},
   "source": [
    "# EPA1333 - Computer Engineering for Scientific Computing\n",
    "## Week 7 "
   ]
  },
  {
   "cell_type": "markdown",
   "metadata": {},
   "source": [
    "**Python Data Science Handbook**\n",
    "\n",
    "*Jake VanderPlas*\n"
   ]
  },
  {
   "cell_type": "code",
   "execution_count": 1,
   "metadata": {
    "scrolled": true
   },
   "outputs": [],
   "source": [
    "%matplotlib inline\n",
    "import pandas as pd\n",
    "import numpy as np\n",
    "import matplotlib.pyplot as plt\n",
    "from io import StringIO\n",
    "import time\n",
    "from datetime import date\n",
    "import datetime"
   ]
  },
  {
   "cell_type": "markdown",
   "metadata": {},
   "source": [
    "## Links\n",
    "\n",
    "  * [Pandas Exercises](https://github.com/guipsamora/pandas_exercises)\n",
    "  * [100 pandas puzzles (well incomplete...)](https://github.com/ajcr/100-pandas-puzzles)\n",
    "  \n",
    "  * [Walkthrough exercises from PandasTutorial by Wes McKinney](https://github.com/lemonbalm/pandas-exercises)\n",
    "  Note: you need to convert these to Python3 first. You can use 2to3 program to convert them automatically ( https://docs.python.org/3.0/library/2to3.html )\n",
    "  \n",
    "  * [A few common Excel tasks in Pandas](http://pbpython.com/excel-pandas-comp.html) \n",
    "  \n",
    "  * Some more Tutorials:\n",
    "    * https://apawlik.github.io/2014-04-09-GARNET/lessons/garnet/pandas/tutorial.html\n",
    "    * http://efavdb.com/pandas-tips-and-tricks/\n"
   ]
  },
  {
   "cell_type": "markdown",
   "metadata": {},
   "source": [
    "# Pandas exercises"
   ]
  },
  {
   "cell_type": "markdown",
   "metadata": {},
   "source": [
    "## Exercise 3: MovieLens Ratings\n",
    "\n"
   ]
  },
  {
   "cell_type": "markdown",
   "metadata": {},
   "source": [
    "### Import data\n",
    "\n",
    "You can find MovieLens ratings [here](http://grouplens.org/datasets/movielens/).\n",
    "\n",
    "\n",
    "  1. Download the file [ml-1m.zip](http://files.grouplens.org/datasets/movielens/ml-1m.zip) with 1 million ratings by 6000 users on 4000 movies. \n",
    "  2. Unzip the file. This will give you 4 files (README and 3 data files).\n",
    "  3. Read the README and browse through the data files to understand the structure of the data.\n",
    "  \n",
    "  HINT: Use **the read_csv()** command with appropiate arguments"
   ]
  },
  {
   "cell_type": "markdown",
   "metadata": {},
   "source": [
    "#### Q1: Read the 3 dat files into three separate DataFrames. Name the dataframes and name the columns appropriately."
   ]
  },
  {
   "cell_type": "code",
   "execution_count": 2,
   "metadata": {},
   "outputs": [
    {
     "data": {
      "text/html": [
       "<div>\n",
       "<style scoped>\n",
       "    .dataframe tbody tr th:only-of-type {\n",
       "        vertical-align: middle;\n",
       "    }\n",
       "\n",
       "    .dataframe tbody tr th {\n",
       "        vertical-align: top;\n",
       "    }\n",
       "\n",
       "    .dataframe thead th {\n",
       "        text-align: right;\n",
       "    }\n",
       "</style>\n",
       "<table border=\"1\" class=\"dataframe\">\n",
       "  <thead>\n",
       "    <tr style=\"text-align: right;\">\n",
       "      <th></th>\n",
       "      <th>MovieID</th>\n",
       "      <th>Title</th>\n",
       "      <th>Genres</th>\n",
       "    </tr>\n",
       "  </thead>\n",
       "  <tbody>\n",
       "    <tr>\n",
       "      <th>0</th>\n",
       "      <td>1</td>\n",
       "      <td>Toy Story (1995)</td>\n",
       "      <td>Animation|Children's|Comedy</td>\n",
       "    </tr>\n",
       "    <tr>\n",
       "      <th>1</th>\n",
       "      <td>2</td>\n",
       "      <td>Jumanji (1995)</td>\n",
       "      <td>Adventure|Children's|Fantasy</td>\n",
       "    </tr>\n",
       "    <tr>\n",
       "      <th>2</th>\n",
       "      <td>3</td>\n",
       "      <td>Grumpier Old Men (1995)</td>\n",
       "      <td>Comedy|Romance</td>\n",
       "    </tr>\n",
       "    <tr>\n",
       "      <th>3</th>\n",
       "      <td>4</td>\n",
       "      <td>Waiting to Exhale (1995)</td>\n",
       "      <td>Comedy|Drama</td>\n",
       "    </tr>\n",
       "    <tr>\n",
       "      <th>4</th>\n",
       "      <td>5</td>\n",
       "      <td>Father of the Bride Part II (1995)</td>\n",
       "      <td>Comedy</td>\n",
       "    </tr>\n",
       "    <tr>\n",
       "      <th>...</th>\n",
       "      <td>...</td>\n",
       "      <td>...</td>\n",
       "      <td>...</td>\n",
       "    </tr>\n",
       "    <tr>\n",
       "      <th>3878</th>\n",
       "      <td>3948</td>\n",
       "      <td>Meet the Parents (2000)</td>\n",
       "      <td>Comedy</td>\n",
       "    </tr>\n",
       "    <tr>\n",
       "      <th>3879</th>\n",
       "      <td>3949</td>\n",
       "      <td>Requiem for a Dream (2000)</td>\n",
       "      <td>Drama</td>\n",
       "    </tr>\n",
       "    <tr>\n",
       "      <th>3880</th>\n",
       "      <td>3950</td>\n",
       "      <td>Tigerland (2000)</td>\n",
       "      <td>Drama</td>\n",
       "    </tr>\n",
       "    <tr>\n",
       "      <th>3881</th>\n",
       "      <td>3951</td>\n",
       "      <td>Two Family House (2000)</td>\n",
       "      <td>Drama</td>\n",
       "    </tr>\n",
       "    <tr>\n",
       "      <th>3882</th>\n",
       "      <td>3952</td>\n",
       "      <td>Contender, The (2000)</td>\n",
       "      <td>Drama|Thriller</td>\n",
       "    </tr>\n",
       "  </tbody>\n",
       "</table>\n",
       "<p>3883 rows × 3 columns</p>\n",
       "</div>"
      ],
      "text/plain": [
       "      MovieID                               Title  \\\n",
       "0           1                    Toy Story (1995)   \n",
       "1           2                      Jumanji (1995)   \n",
       "2           3             Grumpier Old Men (1995)   \n",
       "3           4            Waiting to Exhale (1995)   \n",
       "4           5  Father of the Bride Part II (1995)   \n",
       "...       ...                                 ...   \n",
       "3878     3948             Meet the Parents (2000)   \n",
       "3879     3949          Requiem for a Dream (2000)   \n",
       "3880     3950                    Tigerland (2000)   \n",
       "3881     3951             Two Family House (2000)   \n",
       "3882     3952               Contender, The (2000)   \n",
       "\n",
       "                            Genres  \n",
       "0      Animation|Children's|Comedy  \n",
       "1     Adventure|Children's|Fantasy  \n",
       "2                   Comedy|Romance  \n",
       "3                     Comedy|Drama  \n",
       "4                           Comedy  \n",
       "...                            ...  \n",
       "3878                        Comedy  \n",
       "3879                         Drama  \n",
       "3880                         Drama  \n",
       "3881                         Drama  \n",
       "3882                Drama|Thriller  \n",
       "\n",
       "[3883 rows x 3 columns]"
      ]
     },
     "execution_count": 2,
     "metadata": {},
     "output_type": "execute_result"
    }
   ],
   "source": [
    "#temp = 'C:\\\\Users\\\\basre\\\\Desktop\\\\EPA 1333 - computer engineering\\\\Week 7\\\\data1\\\\data\\\\MovieLens\\\\movies.dat'\n",
    "\n",
    "moviesdf = pd.read_csv('C:\\\\Users\\\\basre\\\\Desktop\\\\EPA 1333 - computer engineering\\\\Week 7\\\\data1\\\\data\\\\MovieLens\\\\movies.dat', sep='::', engine='python' , usecols=[0,1,2,3], names=['MovieID', 'Title', 'Genres'])\n",
    "usersdf = pd.read_csv('C:\\\\Users\\\\basre\\\\Desktop\\\\EPA 1333 - computer engineering\\\\Week 7\\\\data1\\\\data\\\\MovieLens\\\\users.dat', sep='::', engine='python' , usecols=[0,1,2,3,4,5], names=['UserID','Gender','Age','Occupation','Zip-code'])    \n",
    "ratingsdf = pd.read_csv('C:\\\\Users\\\\basre\\\\Desktop\\\\EPA 1333 - computer engineering\\\\Week 7\\\\data1\\\\data\\\\MovieLens\\\\ratings.dat', sep='::', engine='python' , usecols=[0,1,2,3,4], names=['UserID', 'MovieID', 'Rating', \"Timestamp\"])  \n",
    "    \n",
    "moviesdf.head(len(moviesdf))"
   ]
  },
  {
   "cell_type": "code",
   "execution_count": 4,
   "metadata": {},
   "outputs": [
    {
     "data": {
      "text/html": [
       "<div>\n",
       "<style scoped>\n",
       "    .dataframe tbody tr th:only-of-type {\n",
       "        vertical-align: middle;\n",
       "    }\n",
       "\n",
       "    .dataframe tbody tr th {\n",
       "        vertical-align: top;\n",
       "    }\n",
       "\n",
       "    .dataframe thead th {\n",
       "        text-align: right;\n",
       "    }\n",
       "</style>\n",
       "<table border=\"1\" class=\"dataframe\">\n",
       "  <thead>\n",
       "    <tr style=\"text-align: right;\">\n",
       "      <th></th>\n",
       "      <th>UserID</th>\n",
       "      <th>Gender</th>\n",
       "      <th>Age</th>\n",
       "      <th>Occupation</th>\n",
       "      <th>Zip-code</th>\n",
       "    </tr>\n",
       "  </thead>\n",
       "  <tbody>\n",
       "    <tr>\n",
       "      <th>0</th>\n",
       "      <td>1</td>\n",
       "      <td>F</td>\n",
       "      <td>1</td>\n",
       "      <td>10</td>\n",
       "      <td>48067</td>\n",
       "    </tr>\n",
       "    <tr>\n",
       "      <th>1</th>\n",
       "      <td>2</td>\n",
       "      <td>M</td>\n",
       "      <td>56</td>\n",
       "      <td>16</td>\n",
       "      <td>70072</td>\n",
       "    </tr>\n",
       "    <tr>\n",
       "      <th>2</th>\n",
       "      <td>3</td>\n",
       "      <td>M</td>\n",
       "      <td>25</td>\n",
       "      <td>15</td>\n",
       "      <td>55117</td>\n",
       "    </tr>\n",
       "    <tr>\n",
       "      <th>3</th>\n",
       "      <td>4</td>\n",
       "      <td>M</td>\n",
       "      <td>45</td>\n",
       "      <td>7</td>\n",
       "      <td>02460</td>\n",
       "    </tr>\n",
       "    <tr>\n",
       "      <th>4</th>\n",
       "      <td>5</td>\n",
       "      <td>M</td>\n",
       "      <td>25</td>\n",
       "      <td>20</td>\n",
       "      <td>55455</td>\n",
       "    </tr>\n",
       "    <tr>\n",
       "      <th>...</th>\n",
       "      <td>...</td>\n",
       "      <td>...</td>\n",
       "      <td>...</td>\n",
       "      <td>...</td>\n",
       "      <td>...</td>\n",
       "    </tr>\n",
       "    <tr>\n",
       "      <th>6035</th>\n",
       "      <td>6036</td>\n",
       "      <td>F</td>\n",
       "      <td>25</td>\n",
       "      <td>15</td>\n",
       "      <td>32603</td>\n",
       "    </tr>\n",
       "    <tr>\n",
       "      <th>6036</th>\n",
       "      <td>6037</td>\n",
       "      <td>F</td>\n",
       "      <td>45</td>\n",
       "      <td>1</td>\n",
       "      <td>76006</td>\n",
       "    </tr>\n",
       "    <tr>\n",
       "      <th>6037</th>\n",
       "      <td>6038</td>\n",
       "      <td>F</td>\n",
       "      <td>56</td>\n",
       "      <td>1</td>\n",
       "      <td>14706</td>\n",
       "    </tr>\n",
       "    <tr>\n",
       "      <th>6038</th>\n",
       "      <td>6039</td>\n",
       "      <td>F</td>\n",
       "      <td>45</td>\n",
       "      <td>0</td>\n",
       "      <td>01060</td>\n",
       "    </tr>\n",
       "    <tr>\n",
       "      <th>6039</th>\n",
       "      <td>6040</td>\n",
       "      <td>M</td>\n",
       "      <td>25</td>\n",
       "      <td>6</td>\n",
       "      <td>11106</td>\n",
       "    </tr>\n",
       "  </tbody>\n",
       "</table>\n",
       "<p>6040 rows × 5 columns</p>\n",
       "</div>"
      ],
      "text/plain": [
       "      UserID Gender  Age  Occupation Zip-code\n",
       "0          1      F    1          10    48067\n",
       "1          2      M   56          16    70072\n",
       "2          3      M   25          15    55117\n",
       "3          4      M   45           7    02460\n",
       "4          5      M   25          20    55455\n",
       "...      ...    ...  ...         ...      ...\n",
       "6035    6036      F   25          15    32603\n",
       "6036    6037      F   45           1    76006\n",
       "6037    6038      F   56           1    14706\n",
       "6038    6039      F   45           0    01060\n",
       "6039    6040      M   25           6    11106\n",
       "\n",
       "[6040 rows x 5 columns]"
      ]
     },
     "execution_count": 4,
     "metadata": {},
     "output_type": "execute_result"
    }
   ],
   "source": [
    "usersdf.head(len(usersdf))"
   ]
  },
  {
   "cell_type": "markdown",
   "metadata": {},
   "source": [
    "#### Q2:  How many users are there? And how many are men and how many are women?"
   ]
  },
  {
   "cell_type": "code",
   "execution_count": 5,
   "metadata": {},
   "outputs": [
    {
     "name": "stdout",
     "output_type": "stream",
     "text": [
      "There are 4331 masculin users, and 1709 feminine users.\n",
      "There are 6040 Users in total.\n"
     ]
    }
   ],
   "source": [
    "NUsers = usersdf['UserID'].nunique()\n",
    "NMen = len(usersdf[usersdf.Gender == 'M'])\n",
    "NWomen = len(usersdf[usersdf.Gender == 'F'])\n",
    "\n",
    "\n",
    "if ((NMen + NWomen) == NUsers):\n",
    "    print(\"There are\",NMen,\"masculine users, and\",NWomen, \"feminine users.\")\n",
    "    print('There are',NUsers,'Users in total.')\n",
    "else:\n",
    "    print('something went wrong')"
   ]
  },
  {
   "cell_type": "markdown",
   "metadata": {},
   "source": [
    "#### Q3: How many ratings are there? How many were made by man and how many by women? Express it in percentages."
   ]
  },
  {
   "cell_type": "code",
   "execution_count": 6,
   "metadata": {},
   "outputs": [],
   "source": [
    "Gender = usersdf[\"Gender\"]\n",
    "UserID = usersdf[\"UserID\"]\n",
    "\n",
    "dictionary = dict(zip(UserID, Gender))\n",
    "\n",
    "\n",
    "\n"
   ]
  },
  {
   "cell_type": "code",
   "execution_count": 7,
   "metadata": {},
   "outputs": [
    {
     "data": {
      "text/html": [
       "<div>\n",
       "<style scoped>\n",
       "    .dataframe tbody tr th:only-of-type {\n",
       "        vertical-align: middle;\n",
       "    }\n",
       "\n",
       "    .dataframe tbody tr th {\n",
       "        vertical-align: top;\n",
       "    }\n",
       "\n",
       "    .dataframe thead th {\n",
       "        text-align: right;\n",
       "    }\n",
       "</style>\n",
       "<table border=\"1\" class=\"dataframe\">\n",
       "  <thead>\n",
       "    <tr style=\"text-align: right;\">\n",
       "      <th></th>\n",
       "      <th>UserID</th>\n",
       "      <th>MovieID</th>\n",
       "      <th>Rating</th>\n",
       "      <th>Timestamp</th>\n",
       "      <th>Gender</th>\n",
       "    </tr>\n",
       "  </thead>\n",
       "  <tbody>\n",
       "    <tr>\n",
       "      <th>0</th>\n",
       "      <td>1</td>\n",
       "      <td>1193</td>\n",
       "      <td>5</td>\n",
       "      <td>978300760</td>\n",
       "      <td>F</td>\n",
       "    </tr>\n",
       "    <tr>\n",
       "      <th>1</th>\n",
       "      <td>1</td>\n",
       "      <td>661</td>\n",
       "      <td>3</td>\n",
       "      <td>978302109</td>\n",
       "      <td>F</td>\n",
       "    </tr>\n",
       "    <tr>\n",
       "      <th>2</th>\n",
       "      <td>1</td>\n",
       "      <td>914</td>\n",
       "      <td>3</td>\n",
       "      <td>978301968</td>\n",
       "      <td>F</td>\n",
       "    </tr>\n",
       "    <tr>\n",
       "      <th>3</th>\n",
       "      <td>1</td>\n",
       "      <td>3408</td>\n",
       "      <td>4</td>\n",
       "      <td>978300275</td>\n",
       "      <td>F</td>\n",
       "    </tr>\n",
       "    <tr>\n",
       "      <th>4</th>\n",
       "      <td>1</td>\n",
       "      <td>2355</td>\n",
       "      <td>5</td>\n",
       "      <td>978824291</td>\n",
       "      <td>F</td>\n",
       "    </tr>\n",
       "    <tr>\n",
       "      <th>...</th>\n",
       "      <td>...</td>\n",
       "      <td>...</td>\n",
       "      <td>...</td>\n",
       "      <td>...</td>\n",
       "      <td>...</td>\n",
       "    </tr>\n",
       "    <tr>\n",
       "      <th>1000204</th>\n",
       "      <td>6040</td>\n",
       "      <td>1091</td>\n",
       "      <td>1</td>\n",
       "      <td>956716541</td>\n",
       "      <td>M</td>\n",
       "    </tr>\n",
       "    <tr>\n",
       "      <th>1000205</th>\n",
       "      <td>6040</td>\n",
       "      <td>1094</td>\n",
       "      <td>5</td>\n",
       "      <td>956704887</td>\n",
       "      <td>M</td>\n",
       "    </tr>\n",
       "    <tr>\n",
       "      <th>1000206</th>\n",
       "      <td>6040</td>\n",
       "      <td>562</td>\n",
       "      <td>5</td>\n",
       "      <td>956704746</td>\n",
       "      <td>M</td>\n",
       "    </tr>\n",
       "    <tr>\n",
       "      <th>1000207</th>\n",
       "      <td>6040</td>\n",
       "      <td>1096</td>\n",
       "      <td>4</td>\n",
       "      <td>956715648</td>\n",
       "      <td>M</td>\n",
       "    </tr>\n",
       "    <tr>\n",
       "      <th>1000208</th>\n",
       "      <td>6040</td>\n",
       "      <td>1097</td>\n",
       "      <td>4</td>\n",
       "      <td>956715569</td>\n",
       "      <td>M</td>\n",
       "    </tr>\n",
       "  </tbody>\n",
       "</table>\n",
       "<p>1000209 rows × 5 columns</p>\n",
       "</div>"
      ],
      "text/plain": [
       "         UserID  MovieID  Rating  Timestamp Gender\n",
       "0             1     1193       5  978300760      F\n",
       "1             1      661       3  978302109      F\n",
       "2             1      914       3  978301968      F\n",
       "3             1     3408       4  978300275      F\n",
       "4             1     2355       5  978824291      F\n",
       "...         ...      ...     ...        ...    ...\n",
       "1000204    6040     1091       1  956716541      M\n",
       "1000205    6040     1094       5  956704887      M\n",
       "1000206    6040      562       5  956704746      M\n",
       "1000207    6040     1096       4  956715648      M\n",
       "1000208    6040     1097       4  956715569      M\n",
       "\n",
       "[1000209 rows x 5 columns]"
      ]
     },
     "execution_count": 7,
     "metadata": {},
     "output_type": "execute_result"
    }
   ],
   "source": [
    "ratingsdf['Gender']  = ratingsdf.UserID.map(dictionary)\n",
    "ratingsdf.head(len(ratingsdf))"
   ]
  },
  {
   "cell_type": "code",
   "execution_count": 8,
   "metadata": {},
   "outputs": [
    {
     "name": "stdout",
     "output_type": "stream",
     "text": [
      "There are  1000209 ratings in the Ratings dataframe.\n",
      "From these ratings 75.36 %  is done by men. And 24.64 %  is done by women.\n"
     ]
    }
   ],
   "source": [
    "NTotalRating = len(ratingsdf)\n",
    "\n",
    "NMRating = len(ratingsdf[ratingsdf.Gender == 'M'])\n",
    "NWRating = len(ratingsdf[ratingsdf.Gender == 'F'])\n",
    "\n",
    "percentage_by_women = (NWRating/NTotalRating) * 100\n",
    "percentage_by_men = (NMRating/NTotalRating) * 100\n",
    "\n",
    "\n",
    "\n",
    "print(\"There are \",NTotalRating,\"ratings in the Ratings dataframe.\")\n",
    "print(\"From these ratings\", round(percentage_by_men, 2),'%  is done by men. And', round(percentage_by_women, 2),'%  is done by women.')"
   ]
  },
  {
   "cell_type": "markdown",
   "metadata": {},
   "source": [
    "#### Q4: What is the average rating given? What is the average rating given by men and by women separately? Does one gender rate higher on average?\n"
   ]
  },
  {
   "cell_type": "code",
   "execution_count": 9,
   "metadata": {},
   "outputs": [],
   "source": [
    "import statistics"
   ]
  },
  {
   "cell_type": "code",
   "execution_count": 10,
   "metadata": {},
   "outputs": [
    {
     "name": "stdout",
     "output_type": "stream",
     "text": [
      "The mean of all Ratings is 3.581564453029317\n"
     ]
    }
   ],
   "source": [
    "Ratingcolumn = ratingsdf[\"Rating\"]\n",
    "\n",
    "print('The mean of all Ratings is',statistics.mean(Ratingcolumn))"
   ]
  },
  {
   "cell_type": "markdown",
   "metadata": {},
   "source": [
    "#### Q5: Plot histograms of the ratings given by men and women in 2 plots, side-by-side."
   ]
  },
  {
   "cell_type": "code",
   "execution_count": 11,
   "metadata": {},
   "outputs": [
    {
     "data": {
      "text/plain": [
       "(0.0, 280000.0)"
      ]
     },
     "execution_count": 11,
     "metadata": {},
     "output_type": "execute_result"
    },
    {
     "data": {
      "image/png": "[encoded data removed]",
      "text/plain": [
       "<Figure size 2160x720 with 2 Axes>"
      ]
     },
     "metadata": {
      "needs_background": "light"
     },
     "output_type": "display_data"
    }
   ],
   "source": [
    "Men_Ratings_df = ratingsdf[ratingsdf.Gender == 'M']\n",
    "Women_Ratings_df = ratingsdf[ratingsdf.Gender == 'F']\n",
    "\n",
    "\n",
    "f, axs = plt.subplots(1,2, figsize = (30,10)) # Create subplots\n",
    "ax1 = axs[0]\n",
    "ax2 = axs[1]\n",
    "\n",
    "\n",
    "Men = Men_Ratings_df.groupby('Rating').size()\n",
    "Women = Women_Ratings_df.groupby('Rating').size()\n",
    "\n",
    "\n",
    "Men.plot.bar(ax = axs[0])\n",
    "Women.plot.bar(ax = axs[1], color='Pink')\n",
    "\n",
    "\n",
    "ax1.set_ylabel('Frequency')\n",
    "ax2.set_ylabel('Frequency')\n",
    "\n",
    "\n",
    "ax1.set_xlabel('Ratings')\n",
    "ax2.set_xlabel('Ratings')\n",
    "\n",
    "\n",
    "\n",
    "ax1.set_title('1. Men Ratings')\n",
    "ax2.set_title('2. Women Ratings')\n",
    "\n",
    "\n",
    "ax1.set_ylim([0, 280000])\n",
    "ax2.set_ylim([0, 280000])\n"
   ]
  },
  {
   "cell_type": "markdown",
   "metadata": {},
   "source": [
    "#### Q6: Add an extra column to the ratings table containing a 'real date' (year, month, day, hours, seconds) instead of a string timestamp. Try it with ```pd.datetime.fromtimestamp``` as well as ```pd.to_datetime```. Do you notice any difference?\n",
    "\n",
    "*Hint*: If you want to apply a function to an entire column, you can use the function ```apply```:\n",
    "\n",
    "For example:\n",
    "\n",
    "    dataframe['ColumnName'].apply( np.sqrt )  # NOTE np.sqrt, not np.sqrt(). \n",
    "                                              # We pass the function itself, not calling it!\n",
    "\n",
    "will apply the function ```np.sqrt``` to each value in the column \"ColumnName\" of the dataframe and return the result. Note: ```np.sqrt``` is special in that it can also be called as:\n",
    "    \n",
    "    np.sqrt( dataframe(['ColumnName'] )\n",
    "    \n",
    "\n",
    "\n",
    "# Your code goes here"
   ]
  },
  {
   "cell_type": "markdown",
   "metadata": {},
   "source": [
    "#### Q7: Give an overview of the ratings given per year.\n",
    "\n",
    "*Hint*: Datetime and Timestamp data types allow access to their individual members (year, month, day, hour, minute, seconds.\n",
    "\n",
    "For example:\n",
    "  \n",
    "    ts = pd.Timestamp(\"2016-10-16\")\n",
    "    ts.year -> 2016\n",
    "    ts.day -> 16\n",
    "    \n",
    "In a dataframe you can access these datetime/Timestamp methods by using\n",
    "\n",
    "    dataframe['Columnname'].dt.year\n",
    "    \n",
    " "
   ]
  },
  {
   "cell_type": "code",
   "execution_count": 12,
   "metadata": {},
   "outputs": [],
   "source": [
    "ratingsdf['Timestamp'] = pd.to_datetime(ratingsdf['Timestamp'], unit='s')"
   ]
  },
  {
   "cell_type": "code",
   "execution_count": 13,
   "metadata": {},
   "outputs": [],
   "source": [
    "ratingsdf['Year'] = ratingsdf['Timestamp'].dt.year"
   ]
  },
  {
   "cell_type": "code",
   "execution_count": 14,
   "metadata": {},
   "outputs": [
    {
     "data": {
      "text/html": [
       "<div>\n",
       "<style scoped>\n",
       "    .dataframe tbody tr th:only-of-type {\n",
       "        vertical-align: middle;\n",
       "    }\n",
       "\n",
       "    .dataframe tbody tr th {\n",
       "        vertical-align: top;\n",
       "    }\n",
       "\n",
       "    .dataframe thead th {\n",
       "        text-align: right;\n",
       "    }\n",
       "</style>\n",
       "<table border=\"1\" class=\"dataframe\">\n",
       "  <thead>\n",
       "    <tr style=\"text-align: right;\">\n",
       "      <th></th>\n",
       "      <th>UserID</th>\n",
       "      <th>MovieID</th>\n",
       "      <th>Rating</th>\n",
       "      <th>Timestamp</th>\n",
       "      <th>Gender</th>\n",
       "      <th>Year</th>\n",
       "    </tr>\n",
       "  </thead>\n",
       "  <tbody>\n",
       "    <tr>\n",
       "      <th>0</th>\n",
       "      <td>1</td>\n",
       "      <td>1193</td>\n",
       "      <td>5</td>\n",
       "      <td>2000-12-31 22:12:40</td>\n",
       "      <td>F</td>\n",
       "      <td>2000</td>\n",
       "    </tr>\n",
       "    <tr>\n",
       "      <th>1</th>\n",
       "      <td>1</td>\n",
       "      <td>661</td>\n",
       "      <td>3</td>\n",
       "      <td>2000-12-31 22:35:09</td>\n",
       "      <td>F</td>\n",
       "      <td>2000</td>\n",
       "    </tr>\n",
       "    <tr>\n",
       "      <th>2</th>\n",
       "      <td>1</td>\n",
       "      <td>914</td>\n",
       "      <td>3</td>\n",
       "      <td>2000-12-31 22:32:48</td>\n",
       "      <td>F</td>\n",
       "      <td>2000</td>\n",
       "    </tr>\n",
       "    <tr>\n",
       "      <th>3</th>\n",
       "      <td>1</td>\n",
       "      <td>3408</td>\n",
       "      <td>4</td>\n",
       "      <td>2000-12-31 22:04:35</td>\n",
       "      <td>F</td>\n",
       "      <td>2000</td>\n",
       "    </tr>\n",
       "    <tr>\n",
       "      <th>4</th>\n",
       "      <td>1</td>\n",
       "      <td>2355</td>\n",
       "      <td>5</td>\n",
       "      <td>2001-01-06 23:38:11</td>\n",
       "      <td>F</td>\n",
       "      <td>2001</td>\n",
       "    </tr>\n",
       "  </tbody>\n",
       "</table>\n",
       "</div>"
      ],
      "text/plain": [
       "   UserID  MovieID  Rating           Timestamp Gender  Year\n",
       "0       1     1193       5 2000-12-31 22:12:40      F  2000\n",
       "1       1      661       3 2000-12-31 22:35:09      F  2000\n",
       "2       1      914       3 2000-12-31 22:32:48      F  2000\n",
       "3       1     3408       4 2000-12-31 22:04:35      F  2000\n",
       "4       1     2355       5 2001-01-06 23:38:11      F  2001"
      ]
     },
     "execution_count": 14,
     "metadata": {},
     "output_type": "execute_result"
    }
   ],
   "source": [
    "ratingsdf.head()"
   ]
  },
  {
   "cell_type": "code",
   "execution_count": 15,
   "metadata": {},
   "outputs": [
    {
     "data": {
      "text/html": [
       "<div>\n",
       "<style scoped>\n",
       "    .dataframe tbody tr th:only-of-type {\n",
       "        vertical-align: middle;\n",
       "    }\n",
       "\n",
       "    .dataframe tbody tr th {\n",
       "        vertical-align: top;\n",
       "    }\n",
       "\n",
       "    .dataframe thead th {\n",
       "        text-align: right;\n",
       "    }\n",
       "</style>\n",
       "<table border=\"1\" class=\"dataframe\">\n",
       "  <thead>\n",
       "    <tr style=\"text-align: right;\">\n",
       "      <th></th>\n",
       "      <th>UserID</th>\n",
       "      <th>MovieID</th>\n",
       "      <th>Rating</th>\n",
       "      <th>Timestamp</th>\n",
       "      <th>Gender</th>\n",
       "      <th>Year</th>\n",
       "    </tr>\n",
       "  </thead>\n",
       "  <tbody>\n",
       "    <tr>\n",
       "      <th>0</th>\n",
       "      <td>1</td>\n",
       "      <td>1193</td>\n",
       "      <td>5</td>\n",
       "      <td>2000-12-31 22:12:40</td>\n",
       "      <td>F</td>\n",
       "      <td>2000</td>\n",
       "    </tr>\n",
       "    <tr>\n",
       "      <th>1</th>\n",
       "      <td>1</td>\n",
       "      <td>661</td>\n",
       "      <td>3</td>\n",
       "      <td>2000-12-31 22:35:09</td>\n",
       "      <td>F</td>\n",
       "      <td>2000</td>\n",
       "    </tr>\n",
       "    <tr>\n",
       "      <th>2</th>\n",
       "      <td>1</td>\n",
       "      <td>914</td>\n",
       "      <td>3</td>\n",
       "      <td>2000-12-31 22:32:48</td>\n",
       "      <td>F</td>\n",
       "      <td>2000</td>\n",
       "    </tr>\n",
       "    <tr>\n",
       "      <th>3</th>\n",
       "      <td>1</td>\n",
       "      <td>3408</td>\n",
       "      <td>4</td>\n",
       "      <td>2000-12-31 22:04:35</td>\n",
       "      <td>F</td>\n",
       "      <td>2000</td>\n",
       "    </tr>\n",
       "    <tr>\n",
       "      <th>4</th>\n",
       "      <td>1</td>\n",
       "      <td>2355</td>\n",
       "      <td>5</td>\n",
       "      <td>2001-01-06 23:38:11</td>\n",
       "      <td>F</td>\n",
       "      <td>2001</td>\n",
       "    </tr>\n",
       "  </tbody>\n",
       "</table>\n",
       "</div>"
      ],
      "text/plain": [
       "   UserID  MovieID  Rating           Timestamp Gender  Year\n",
       "0       1     1193       5 2000-12-31 22:12:40      F  2000\n",
       "1       1      661       3 2000-12-31 22:35:09      F  2000\n",
       "2       1      914       3 2000-12-31 22:32:48      F  2000\n",
       "3       1     3408       4 2000-12-31 22:04:35      F  2000\n",
       "4       1     2355       5 2001-01-06 23:38:11      F  2001"
      ]
     },
     "execution_count": 15,
     "metadata": {},
     "output_type": "execute_result"
    }
   ],
   "source": [
    "ratingsdf['Year'] = ratingsdf['Timestamp'].dt.year\n",
    "ratingsdf.head()"
   ]
  },
  {
   "cell_type": "code",
   "execution_count": 16,
   "metadata": {},
   "outputs": [
    {
     "name": "stdout",
     "output_type": "stream",
     "text": [
      "Year: 2000 Number of Rating: 904757 with a mean of: 3.6\n",
      "Year: 2001 Number of Rating: 68058 with a mean of: 3.5\n",
      "Year: 2002 Number of Rating: 24046 with a mean of: 3.5\n",
      "Year: 2003 Number of Rating: 3348 with a mean of: 3.5\n",
      "Year: 2004 NaN\n"
     ]
    }
   ],
   "source": [
    "\n",
    "for i in range(2000,2005):\n",
    "    year = ratingsdf[ratingsdf.Year == i]\n",
    "    if len(year) > 0:\n",
    "        year_rating_column = year[\"Rating\"]\n",
    "        print('Year:',i, 'Number of Rating:', len(year), 'with a mean of:' ,round(statistics.mean(year_rating_column),1))\n",
    "    else:\n",
    "        print('Year:',i, 'NaN')"
   ]
  },
  {
   "cell_type": "markdown",
   "metadata": {},
   "source": [
    "#### Q8: How many genres are there? (Count them from the tables, verify with what you find in the README)"
   ]
  },
  {
   "cell_type": "code",
   "execution_count": 17,
   "metadata": {},
   "outputs": [
    {
     "name": "stdout",
     "output_type": "stream",
     "text": [
      "{'Western', \"Children's\", 'Sci-Fi', 'Romance', 'Film-Noir', 'Action', 'Musical', 'Horror', 'War', 'Animation', 'Adventure', 'Documentary', 'Drama', 'Fantasy', 'Mystery', 'Crime', 'Comedy', 'Thriller'}\n",
      "18 Different genres\n"
     ]
    }
   ],
   "source": [
    "from collections import Counter\n",
    "\n",
    "GenresList = list(moviesdf.Genres.unique())\n",
    "z = set() \n",
    "\n",
    "for i in range(len(GenresList)):\n",
    "    a = GenresList[i]\n",
    "    a = a.split('|')\n",
    "    for j in range(len(a)):\n",
    "        z.add(a[j])\n",
    "\n",
    "print(z)\n",
    "print(len(z), 'Different genres')"
   ]
  },
  {
   "cell_type": "markdown",
   "metadata": {},
   "source": [
    "#### Q9: Count how many movies there are in each genre category."
   ]
  },
  {
   "cell_type": "code",
   "execution_count": 18,
   "metadata": {},
   "outputs": [
    {
     "name": "stdout",
     "output_type": "stream",
     "text": [
      "There are 68 movies in the the genre: Western\n",
      "There are 251 movies in the the genre: Children's\n",
      "There are 276 movies in the the genre: Sci-Fi\n",
      "There are 471 movies in the the genre: Romance\n",
      "There are 44 movies in the the genre: Film-Noir\n",
      "There are 503 movies in the the genre: Action\n",
      "There are 114 movies in the the genre: Musical\n",
      "There are 343 movies in the the genre: Horror\n",
      "There are 143 movies in the the genre: War\n",
      "There are 105 movies in the the genre: Animation\n",
      "There are 283 movies in the the genre: Adventure\n",
      "There are 127 movies in the the genre: Documentary\n",
      "There are 1603 movies in the the genre: Drama\n",
      "There are 68 movies in the the genre: Fantasy\n",
      "There are 106 movies in the the genre: Mystery\n",
      "There are 211 movies in the the genre: Crime\n",
      "There are 1200 movies in the the genre: Comedy\n",
      "There are 492 movies in the the genre: Thriller\n"
     ]
    }
   ],
   "source": [
    "Genres = list(z)\n",
    "b = 0\n",
    "\n",
    "for i in range(len(Genres)):\n",
    "    a = len(moviesdf[moviesdf['Genres'].str.contains(Genres[i])])\n",
    "    print('There are',a,'movies in the the genre:',Genres[i])\n",
    "    b += a\n",
    "\n",
    "    "
   ]
  },
  {
   "cell_type": "markdown",
   "metadata": {},
   "source": [
    "#### Q10: How many ratings did the movie 'Casino (1995)' receive? What was the average rating for this movie?"
   ]
  },
  {
   "cell_type": "code",
   "execution_count": 29,
   "metadata": {},
   "outputs": [
    {
     "name": "stdout",
     "output_type": "stream",
     "text": [
      "Casino (1995) received 682 Ratings.\n",
      "The average rating for this movie is 3.8\n"
     ]
    }
   ],
   "source": [
    "Title = moviesdf[\"Title\"]\n",
    "MovieID = moviesdf[\"MovieID\"]\n",
    "\n",
    "dictionary = dict(zip(MovieID, Title))\n",
    "\n",
    "ratingsdf['Title']  = ratingsdf.MovieID.map(dictionary)\n",
    "ratingsdf.head(len(ratingsdf))\n",
    "\n",
    "Casino_1995 = ratingsdf[ratingsdf.Title == 'Casino (1995)']\n",
    "\n",
    "Ratingcolumn_Casino_1995 = Casino_1995['Rating']\n",
    "\n",
    "\n",
    "\n",
    "print('Casino (1995) received',len(Casino_1995), 'Ratings.')\n",
    "print('The average rating for this movie is', round((statistics.mean(Ratingcolumn_Casino_1995)),1))"
   ]
  },
  {
   "cell_type": "markdown",
   "metadata": {},
   "source": [
    "#### Q11: What was the average rating of men for this movie? What was the average of women for this movie?"
   ]
  },
  {
   "cell_type": "code",
   "execution_count": 21,
   "metadata": {},
   "outputs": [
    {
     "data": {
      "text/html": [
       "<div>\n",
       "<style scoped>\n",
       "    .dataframe tbody tr th:only-of-type {\n",
       "        vertical-align: middle;\n",
       "    }\n",
       "\n",
       "    .dataframe tbody tr th {\n",
       "        vertical-align: top;\n",
       "    }\n",
       "\n",
       "    .dataframe thead th {\n",
       "        text-align: right;\n",
       "    }\n",
       "</style>\n",
       "<table border=\"1\" class=\"dataframe\">\n",
       "  <thead>\n",
       "    <tr style=\"text-align: right;\">\n",
       "      <th></th>\n",
       "      <th>UserID</th>\n",
       "      <th>MovieID</th>\n",
       "      <th>Rating</th>\n",
       "      <th>Timestamp</th>\n",
       "      <th>Gender</th>\n",
       "      <th>Year</th>\n",
       "      <th>Title</th>\n",
       "    </tr>\n",
       "  </thead>\n",
       "  <tbody>\n",
       "    <tr>\n",
       "      <th>387</th>\n",
       "      <td>5</td>\n",
       "      <td>16</td>\n",
       "      <td>3</td>\n",
       "      <td>2000-12-31 06:54:05</td>\n",
       "      <td>M</td>\n",
       "      <td>2000</td>\n",
       "      <td>Casino (1995)</td>\n",
       "    </tr>\n",
       "    <tr>\n",
       "      <th>655</th>\n",
       "      <td>8</td>\n",
       "      <td>16</td>\n",
       "      <td>4</td>\n",
       "      <td>2000-12-31 02:34:55</td>\n",
       "      <td>M</td>\n",
       "      <td>2000</td>\n",
       "      <td>Casino (1995)</td>\n",
       "    </tr>\n",
       "    <tr>\n",
       "      <th>774</th>\n",
       "      <td>9</td>\n",
       "      <td>16</td>\n",
       "      <td>4</td>\n",
       "      <td>2000-12-31 01:36:39</td>\n",
       "      <td>M</td>\n",
       "      <td>2000</td>\n",
       "      <td>Casino (1995)</td>\n",
       "    </tr>\n",
       "    <tr>\n",
       "      <th>2654</th>\n",
       "      <td>22</td>\n",
       "      <td>16</td>\n",
       "      <td>4</td>\n",
       "      <td>2000-12-30 00:26:19</td>\n",
       "      <td>M</td>\n",
       "      <td>2000</td>\n",
       "      <td>Casino (1995)</td>\n",
       "    </tr>\n",
       "    <tr>\n",
       "      <th>2945</th>\n",
       "      <td>23</td>\n",
       "      <td>16</td>\n",
       "      <td>4</td>\n",
       "      <td>2001-01-02 20:11:49</td>\n",
       "      <td>M</td>\n",
       "      <td>2001</td>\n",
       "      <td>Casino (1995)</td>\n",
       "    </tr>\n",
       "    <tr>\n",
       "      <th>...</th>\n",
       "      <td>...</td>\n",
       "      <td>...</td>\n",
       "      <td>...</td>\n",
       "      <td>...</td>\n",
       "      <td>...</td>\n",
       "      <td>...</td>\n",
       "      <td>...</td>\n",
       "    </tr>\n",
       "    <tr>\n",
       "      <th>988210</th>\n",
       "      <td>5964</td>\n",
       "      <td>16</td>\n",
       "      <td>4</td>\n",
       "      <td>2000-04-29 07:51:07</td>\n",
       "      <td>M</td>\n",
       "      <td>2000</td>\n",
       "      <td>Casino (1995)</td>\n",
       "    </tr>\n",
       "    <tr>\n",
       "      <th>992912</th>\n",
       "      <td>5998</td>\n",
       "      <td>16</td>\n",
       "      <td>3</td>\n",
       "      <td>2001-09-30 06:30:35</td>\n",
       "      <td>M</td>\n",
       "      <td>2001</td>\n",
       "      <td>Casino (1995)</td>\n",
       "    </tr>\n",
       "    <tr>\n",
       "      <th>993627</th>\n",
       "      <td>6001</td>\n",
       "      <td>16</td>\n",
       "      <td>3</td>\n",
       "      <td>2000-04-27 04:48:21</td>\n",
       "      <td>F</td>\n",
       "      <td>2000</td>\n",
       "      <td>Casino (1995)</td>\n",
       "    </tr>\n",
       "    <tr>\n",
       "      <th>996263</th>\n",
       "      <td>6016</td>\n",
       "      <td>16</td>\n",
       "      <td>3</td>\n",
       "      <td>2000-04-28 21:59:51</td>\n",
       "      <td>M</td>\n",
       "      <td>2000</td>\n",
       "      <td>Casino (1995)</td>\n",
       "    </tr>\n",
       "    <tr>\n",
       "      <th>999034</th>\n",
       "      <td>6036</td>\n",
       "      <td>16</td>\n",
       "      <td>3</td>\n",
       "      <td>2000-04-26 12:59:25</td>\n",
       "      <td>F</td>\n",
       "      <td>2000</td>\n",
       "      <td>Casino (1995)</td>\n",
       "    </tr>\n",
       "  </tbody>\n",
       "</table>\n",
       "<p>682 rows × 7 columns</p>\n",
       "</div>"
      ],
      "text/plain": [
       "        UserID  MovieID  Rating           Timestamp Gender  Year  \\\n",
       "387          5       16       3 2000-12-31 06:54:05      M  2000   \n",
       "655          8       16       4 2000-12-31 02:34:55      M  2000   \n",
       "774          9       16       4 2000-12-31 01:36:39      M  2000   \n",
       "2654        22       16       4 2000-12-30 00:26:19      M  2000   \n",
       "2945        23       16       4 2001-01-02 20:11:49      M  2001   \n",
       "...        ...      ...     ...                 ...    ...   ...   \n",
       "988210    5964       16       4 2000-04-29 07:51:07      M  2000   \n",
       "992912    5998       16       3 2001-09-30 06:30:35      M  2001   \n",
       "993627    6001       16       3 2000-04-27 04:48:21      F  2000   \n",
       "996263    6016       16       3 2000-04-28 21:59:51      M  2000   \n",
       "999034    6036       16       3 2000-04-26 12:59:25      F  2000   \n",
       "\n",
       "                Title  \n",
       "387     Casino (1995)  \n",
       "655     Casino (1995)  \n",
       "774     Casino (1995)  \n",
       "2654    Casino (1995)  \n",
       "2945    Casino (1995)  \n",
       "...               ...  \n",
       "988210  Casino (1995)  \n",
       "992912  Casino (1995)  \n",
       "993627  Casino (1995)  \n",
       "996263  Casino (1995)  \n",
       "999034  Casino (1995)  \n",
       "\n",
       "[682 rows x 7 columns]"
      ]
     },
     "execution_count": 21,
     "metadata": {},
     "output_type": "execute_result"
    }
   ],
   "source": [
    "Casino_1995.head(len(Casino_1995))"
   ]
  },
  {
   "cell_type": "code",
   "execution_count": 22,
   "metadata": {},
   "outputs": [
    {
     "name": "stdout",
     "output_type": "stream",
     "text": [
      "The average ratings on the movie Casino (1995) for men is 3.8378870673952643 and for women it is 3.6090225563909772\n"
     ]
    }
   ],
   "source": [
    "Men_Rating_Casino_1995 = Casino_1995[Casino_1995.Gender == 'M']\n",
    "Women_Rating_Casino_1995 = Casino_1995[Casino_1995.Gender == 'F']\n",
    "\n",
    "Men_Rating_Casino_1995_Rating_column = Men_Rating_Casino_1995['Rating']\n",
    "Women_Rating_Casino_1995_Rating_column = Women_Rating_Casino_1995['Rating']\n",
    "\n",
    "print('The average ratings on the movie Casino (1995) for men is',statistics.mean(Men_Rating_Casino_1995_Rating_column),'and for women it is',statistics.mean(Women_Rating_Casino_1995_Rating_column))"
   ]
  }
 ],
 "metadata": {
  "kernelspec": {
   "display_name": "Python 3",
   "language": "python",
   "name": "python3"
  },
  "language_info": {
   "codemirror_mode": {
    "name": "ipython",
    "version": 3
   },
   "file_extension": ".py",
   "mimetype": "text/x-python",
   "name": "python",
   "nbconvert_exporter": "python",
   "pygments_lexer": "ipython3",
   "version": "3.7.8"
  }
 },
 "nbformat": 4,
 "nbformat_minor": 4
}
