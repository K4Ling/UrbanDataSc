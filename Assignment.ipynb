{
 "cells": [
  {
   "cell_type": "markdown",
   "metadata": {
    "editable": true
   },
   "source": [
    "# Project description\n",
    "Urban mobility significantly contributes to global environmental impact. With the growth in urbanareas worldwide, cities are implementing policies to focus on sustainable urban and mobility devel-opment. Urban areas exhibit high variability in structure, economic output, mobility behaviour,among others. Pinpointing to the exact causes of emissions is impossible. However, understandingthe relationship of mobility with infrastructure resources and other urban indicators may help gov-ernments predict long-term mobility behaviour and intervene with future pathways into sustainablemobility options. </br>\n",
    "\n",
    "Project goals: You are tasked to identify how mobility is related to the infrastructural form of acity and across multiple cities. Use your findings toward helping governments transform mobilitywithin cities for reducing environmental impacts of mobility use.\n",
    "Data: </br>\n",
    "1. Local city-wide indicators of urban mobility: Multi-city Traffic Datasetprovided publicly byThe Institute for Transport Planning and Systems at ETH Zurich.\n",
    "2. Global city-wide indicators of urban mobility and environmental impacts:Urban TypologiesProject[Reference]3.Get indicators for infrastructure resources from OSMNX (street networks) and PYROSM(amenities and points of interest) python packages.High-level project goals1.Explore, Investigate, and Visualize various factors of the mobility data across cities of interest.2.Describe and incorporate additional data sources that you will use to help you understandrelationships between mobility and the built environment.\n",
    "3. Identify correlations between mobility and the built environment.4.Perform clustering or LISA analysis on city streets where congestion may be related stronglywith the presence of certain amenities. Think about how that may vary with distance toamenities.\n",
    "4. Or, train and evaluate models using the mobility data (either as predictors or as the primaryresponse in some fashion) and your data sources.\n",
    "6. Use and interpret your models to discuss the causes and correlations of or effects due todifferences in congestion across cities or within a city of your choice.\n",
    "7. Aggregate city-wide findings to correlate with environmental indicators used in data set (2) -urban typology - to comment on policy initiatives of the governments. (Think how you mayaggregate city-wide findings to a single score for the whole city to compare with indicatorsused in data set \n",
    "\n",
    "(2))Note: Not all data may be available for all cities. Hence, conduct this analysis for at least5citiesoverlapping between sets1and2in the data. You are welcome to do the analysis in many morecities.\n",
    "\n",
    "# blabla"
   ]
  },
  {
   "cell_type": "code",
   "execution_count": 10,
   "metadata": {},
   "outputs": [],
   "source": [
    "# \n",
    "import pandas as pd\n",
    "import geopandas as gpd\n",
    "from pyrosm import OSM\n",
    "from pyrosm import get_data\n",
    "from shapely.geometry import Polygon\n"
   ]
  },
  {
   "cell_type": "code",
   "execution_count": 2,
   "metadata": {},
   "outputs": [
    {
     "data": {
      "text/html": [
       "<div>\n",
       "<style scoped>\n",
       "    .dataframe tbody tr th:only-of-type {\n",
       "        vertical-align: middle;\n",
       "    }\n",
       "\n",
       "    .dataframe tbody tr th {\n",
       "        vertical-align: top;\n",
       "    }\n",
       "\n",
       "    .dataframe thead th {\n",
       "        text-align: right;\n",
       "    }\n",
       "</style>\n",
       "<table border=\"1\" class=\"dataframe\">\n",
       "  <thead>\n",
       "    <tr style=\"text-align: right;\">\n",
       "      <th></th>\n",
       "      <th>detid</th>\n",
       "      <th>length</th>\n",
       "      <th>pos</th>\n",
       "      <th>fclass</th>\n",
       "      <th>road</th>\n",
       "      <th>limit</th>\n",
       "      <th>citycode</th>\n",
       "      <th>lanes</th>\n",
       "      <th>linkid</th>\n",
       "      <th>long</th>\n",
       "      <th>lat</th>\n",
       "    </tr>\n",
       "  </thead>\n",
       "  <tbody>\n",
       "    <tr>\n",
       "      <th>0</th>\n",
       "      <td>U1-52G</td>\n",
       "      <td>0.196037</td>\n",
       "      <td>0.005512</td>\n",
       "      <td>secondary</td>\n",
       "      <td>Gögginger Straße</td>\n",
       "      <td>50</td>\n",
       "      <td>augsburg</td>\n",
       "      <td>1.0</td>\n",
       "      <td>72.0</td>\n",
       "      <td>10.889553</td>\n",
       "      <td>48.359957</td>\n",
       "    </tr>\n",
       "    <tr>\n",
       "      <th>1</th>\n",
       "      <td>U1-51G</td>\n",
       "      <td>0.130039</td>\n",
       "      <td>0.004013</td>\n",
       "      <td>secondary</td>\n",
       "      <td>Gögginger Straße</td>\n",
       "      <td>50</td>\n",
       "      <td>augsburg</td>\n",
       "      <td>1.0</td>\n",
       "      <td>73.0</td>\n",
       "      <td>10.889601</td>\n",
       "      <td>48.359945</td>\n",
       "    </tr>\n",
       "    <tr>\n",
       "      <th>2</th>\n",
       "      <td>U1-52L</td>\n",
       "      <td>0.155863</td>\n",
       "      <td>0.022228</td>\n",
       "      <td>secondary</td>\n",
       "      <td>Gögginger Straße</td>\n",
       "      <td>50</td>\n",
       "      <td>augsburg</td>\n",
       "      <td>1.0</td>\n",
       "      <td>70.0</td>\n",
       "      <td>10.889355</td>\n",
       "      <td>48.359876</td>\n",
       "    </tr>\n",
       "    <tr>\n",
       "      <th>3</th>\n",
       "      <td>U1-51L</td>\n",
       "      <td>0.197675</td>\n",
       "      <td>0.021889</td>\n",
       "      <td>secondary</td>\n",
       "      <td>Gögginger Straße</td>\n",
       "      <td>50</td>\n",
       "      <td>augsburg</td>\n",
       "      <td>1.0</td>\n",
       "      <td>71.0</td>\n",
       "      <td>10.889396</td>\n",
       "      <td>48.359862</td>\n",
       "    </tr>\n",
       "    <tr>\n",
       "      <th>4</th>\n",
       "      <td>U1-62</td>\n",
       "      <td>0.065183</td>\n",
       "      <td>0.024465</td>\n",
       "      <td>secondary</td>\n",
       "      <td>Rosenaustraße</td>\n",
       "      <td>50</td>\n",
       "      <td>augsburg</td>\n",
       "      <td>1.0</td>\n",
       "      <td>68.0</td>\n",
       "      <td>10.889361</td>\n",
       "      <td>48.360578</td>\n",
       "    </tr>\n",
       "  </tbody>\n",
       "</table>\n",
       "</div>"
      ],
      "text/plain": [
       "    detid    length       pos     fclass              road limit  citycode  \\\n",
       "0  U1-52G  0.196037  0.005512  secondary  Gögginger Straße    50  augsburg   \n",
       "1  U1-51G  0.130039  0.004013  secondary  Gögginger Straße    50  augsburg   \n",
       "2  U1-52L  0.155863  0.022228  secondary  Gögginger Straße    50  augsburg   \n",
       "3  U1-51L  0.197675  0.021889  secondary  Gögginger Straße    50  augsburg   \n",
       "4   U1-62  0.065183  0.024465  secondary     Rosenaustraße    50  augsburg   \n",
       "\n",
       "   lanes  linkid       long        lat  \n",
       "0    1.0    72.0  10.889553  48.359957  \n",
       "1    1.0    73.0  10.889601  48.359945  \n",
       "2    1.0    70.0  10.889355  48.359876  \n",
       "3    1.0    71.0  10.889396  48.359862  \n",
       "4    1.0    68.0  10.889361  48.360578  "
      ]
     },
     "execution_count": 2,
     "metadata": {},
     "output_type": "execute_result"
    }
   ],
   "source": [
    "UTD19 = pd.read_csv('Data/detectors_public.csv')\n",
    "UTD19.head()"
   ]
  },
  {
   "cell_type": "code",
   "execution_count": 58,
   "metadata": {},
   "outputs": [
    {
     "data": {
      "text/plain": [
       "40"
      ]
     },
     "execution_count": 58,
     "metadata": {},
     "output_type": "execute_result"
    }
   ],
   "source": [
    "len(UTD19.citycode.unique())"
   ]
  },
  {
   "cell_type": "code",
   "execution_count": 4,
   "metadata": {},
   "outputs": [],
   "source": [
    "# munich, rotterdam, frankfurt, hamburg, zurich\n",
    "citylist = ['Munich', 'Rotterdam-Hague', 'Frankfurt', 'Hamburg', 'Zurich']"
   ]
  },
  {
   "cell_type": "code",
   "execution_count": 5,
   "metadata": {},
   "outputs": [],
   "source": [
    "UrbanTypo = pd.read_excel('Data/FINAL-COMBINED-DATASET.xlsx')\n"
   ]
  },
  {
   "cell_type": "code",
   "execution_count": 6,
   "metadata": {},
   "outputs": [
    {
     "data": {
      "text/html": [
       "<div>\n",
       "<style scoped>\n",
       "    .dataframe tbody tr th:only-of-type {\n",
       "        vertical-align: middle;\n",
       "    }\n",
       "\n",
       "    .dataframe tbody tr th {\n",
       "        vertical-align: top;\n",
       "    }\n",
       "\n",
       "    .dataframe thead th {\n",
       "        text-align: right;\n",
       "    }\n",
       "</style>\n",
       "<table border=\"1\" class=\"dataframe\">\n",
       "  <thead>\n",
       "    <tr style=\"text-align: right;\">\n",
       "      <th></th>\n",
       "      <th>City</th>\n",
       "      <th>cityID</th>\n",
       "      <th>clusterID</th>\n",
       "      <th>Typology</th>\n",
       "      <th>Country</th>\n",
       "      <th>Car Modeshare (%)</th>\n",
       "      <th>Public Transit Modeshare (%)</th>\n",
       "      <th>Bicycle Modeshare (%)</th>\n",
       "      <th>Walking Modeshare (%)</th>\n",
       "      <th>Gasoline Pump Price (USD/liter)</th>\n",
       "      <th>...</th>\n",
       "      <th>Highway Proportion</th>\n",
       "      <th>Metro Propensity Factor</th>\n",
       "      <th>BRT Propensity Factor</th>\n",
       "      <th>BikeShare Propensity Factor</th>\n",
       "      <th>Development Factor</th>\n",
       "      <th>Sustainability Factor</th>\n",
       "      <th>Population Factor</th>\n",
       "      <th>Congestion Factor</th>\n",
       "      <th>Sprawl Factor</th>\n",
       "      <th>Network Density Factor</th>\n",
       "    </tr>\n",
       "  </thead>\n",
       "  <tbody>\n",
       "    <tr>\n",
       "      <th>98</th>\n",
       "      <td>Hamburg</td>\n",
       "      <td>99</td>\n",
       "      <td>9</td>\n",
       "      <td>MassTransit Heavyweight</td>\n",
       "      <td>Germany</td>\n",
       "      <td>42.00</td>\n",
       "      <td>18.00</td>\n",
       "      <td>12</td>\n",
       "      <td>28.00</td>\n",
       "      <td>1.68</td>\n",
       "      <td>...</td>\n",
       "      <td>0.016812</td>\n",
       "      <td>0.667477</td>\n",
       "      <td>0.273596</td>\n",
       "      <td>0.437481</td>\n",
       "      <td>0.747204</td>\n",
       "      <td>0.536597</td>\n",
       "      <td>0.035424</td>\n",
       "      <td>0.357805</td>\n",
       "      <td>0.313441</td>\n",
       "      <td>0.231415</td>\n",
       "    </tr>\n",
       "    <tr>\n",
       "      <th>99</th>\n",
       "      <td>Munich</td>\n",
       "      <td>100</td>\n",
       "      <td>9</td>\n",
       "      <td>MassTransit Heavyweight</td>\n",
       "      <td>Germany</td>\n",
       "      <td>37.00</td>\n",
       "      <td>21.00</td>\n",
       "      <td>14</td>\n",
       "      <td>28.00</td>\n",
       "      <td>1.73</td>\n",
       "      <td>...</td>\n",
       "      <td>0.021030</td>\n",
       "      <td>0.674947</td>\n",
       "      <td>0.142531</td>\n",
       "      <td>0.433690</td>\n",
       "      <td>0.779353</td>\n",
       "      <td>0.599366</td>\n",
       "      <td>0.033533</td>\n",
       "      <td>0.354032</td>\n",
       "      <td>0.236366</td>\n",
       "      <td>0.429755</td>\n",
       "    </tr>\n",
       "    <tr>\n",
       "      <th>101</th>\n",
       "      <td>Frankfurt</td>\n",
       "      <td>102</td>\n",
       "      <td>10</td>\n",
       "      <td>MassTransit Moderate</td>\n",
       "      <td>Germany</td>\n",
       "      <td>38.00</td>\n",
       "      <td>20.00</td>\n",
       "      <td>11</td>\n",
       "      <td>31.00</td>\n",
       "      <td>1.68</td>\n",
       "      <td>...</td>\n",
       "      <td>0.033763</td>\n",
       "      <td>0.080828</td>\n",
       "      <td>0.131759</td>\n",
       "      <td>0.403807</td>\n",
       "      <td>0.741574</td>\n",
       "      <td>0.625617</td>\n",
       "      <td>0.044672</td>\n",
       "      <td>0.323014</td>\n",
       "      <td>0.323657</td>\n",
       "      <td>0.342305</td>\n",
       "    </tr>\n",
       "    <tr>\n",
       "      <th>182</th>\n",
       "      <td>Rotterdam-Hague</td>\n",
       "      <td>183</td>\n",
       "      <td>10</td>\n",
       "      <td>MassTransit Moderate</td>\n",
       "      <td>Netherlands</td>\n",
       "      <td>49.00</td>\n",
       "      <td>17.00</td>\n",
       "      <td>16</td>\n",
       "      <td>18.00</td>\n",
       "      <td>1.96</td>\n",
       "      <td>...</td>\n",
       "      <td>NaN</td>\n",
       "      <td>0.356458</td>\n",
       "      <td>0.164029</td>\n",
       "      <td>0.484939</td>\n",
       "      <td>0.750362</td>\n",
       "      <td>0.540186</td>\n",
       "      <td>0.035450</td>\n",
       "      <td>0.204339</td>\n",
       "      <td>0.193488</td>\n",
       "      <td>0.508605</td>\n",
       "    </tr>\n",
       "    <tr>\n",
       "      <th>238</th>\n",
       "      <td>Zurich</td>\n",
       "      <td>239</td>\n",
       "      <td>10</td>\n",
       "      <td>MassTransit Moderate</td>\n",
       "      <td>Switzerland</td>\n",
       "      <td>42.92</td>\n",
       "      <td>46.31</td>\n",
       "      <td>4.14</td>\n",
       "      <td>5.65</td>\n",
       "      <td>1.68</td>\n",
       "      <td>...</td>\n",
       "      <td>0.025206</td>\n",
       "      <td>0.090735</td>\n",
       "      <td>0.346604</td>\n",
       "      <td>0.163072</td>\n",
       "      <td>1.000000</td>\n",
       "      <td>0.575431</td>\n",
       "      <td>0.025346</td>\n",
       "      <td>0.388853</td>\n",
       "      <td>0.185876</td>\n",
       "      <td>0.453369</td>\n",
       "    </tr>\n",
       "  </tbody>\n",
       "</table>\n",
       "<p>5 rows × 78 columns</p>\n",
       "</div>"
      ],
      "text/plain": [
       "                City  cityID  clusterID                 Typology      Country  \\\n",
       "98           Hamburg      99          9  MassTransit Heavyweight      Germany   \n",
       "99            Munich     100          9  MassTransit Heavyweight      Germany   \n",
       "101        Frankfurt     102         10     MassTransit Moderate      Germany   \n",
       "182  Rotterdam-Hague     183         10     MassTransit Moderate  Netherlands   \n",
       "238           Zurich     239         10     MassTransit Moderate  Switzerland   \n",
       "\n",
       "     Car Modeshare (%)  Public Transit Modeshare (%) Bicycle Modeshare (%)  \\\n",
       "98               42.00                         18.00                    12   \n",
       "99               37.00                         21.00                    14   \n",
       "101              38.00                         20.00                    11   \n",
       "182              49.00                         17.00                    16   \n",
       "238              42.92                         46.31                  4.14   \n",
       "\n",
       "     Walking Modeshare (%)  Gasoline Pump Price (USD/liter)  ...  \\\n",
       "98                   28.00                             1.68  ...   \n",
       "99                   28.00                             1.73  ...   \n",
       "101                  31.00                             1.68  ...   \n",
       "182                  18.00                             1.96  ...   \n",
       "238                   5.65                             1.68  ...   \n",
       "\n",
       "     Highway Proportion  Metro Propensity Factor  BRT Propensity Factor  \\\n",
       "98             0.016812                 0.667477               0.273596   \n",
       "99             0.021030                 0.674947               0.142531   \n",
       "101            0.033763                 0.080828               0.131759   \n",
       "182                 NaN                 0.356458               0.164029   \n",
       "238            0.025206                 0.090735               0.346604   \n",
       "\n",
       "     BikeShare Propensity Factor  Development Factor  Sustainability Factor  \\\n",
       "98                      0.437481            0.747204               0.536597   \n",
       "99                      0.433690            0.779353               0.599366   \n",
       "101                     0.403807            0.741574               0.625617   \n",
       "182                     0.484939            0.750362               0.540186   \n",
       "238                     0.163072            1.000000               0.575431   \n",
       "\n",
       "     Population Factor  Congestion Factor  Sprawl Factor  \\\n",
       "98            0.035424           0.357805       0.313441   \n",
       "99            0.033533           0.354032       0.236366   \n",
       "101           0.044672           0.323014       0.323657   \n",
       "182           0.035450           0.204339       0.193488   \n",
       "238           0.025346           0.388853       0.185876   \n",
       "\n",
       "     Network Density Factor  \n",
       "98                 0.231415  \n",
       "99                 0.429755  \n",
       "101                0.342305  \n",
       "182                0.508605  \n",
       "238                0.453369  \n",
       "\n",
       "[5 rows x 78 columns]"
      ]
     },
     "execution_count": 6,
     "metadata": {},
     "output_type": "execute_result"
    }
   ],
   "source": [
    "Cities = UrbanTypo.loc[(UrbanTypo.City.isin(citylist))]\n",
    "Cities"
   ]
  },
  {
   "cell_type": "code",
   "execution_count": null,
   "metadata": {},
   "outputs": [],
   "source": []
  },
  {
   "cell_type": "code",
   "execution_count": null,
   "metadata": {},
   "outputs": [],
   "source": []
  },
  {
   "cell_type": "code",
   "execution_count": null,
   "metadata": {},
   "outputs": [],
   "source": []
  },
  {
   "cell_type": "code",
   "execution_count": null,
   "metadata": {},
   "outputs": [],
   "source": []
  },
  {
   "cell_type": "code",
   "execution_count": 49,
   "metadata": {},
   "outputs": [],
   "source": [
    "# find a way to get info for specific tag and specific subtype\n",
    "# \n",
    "# Get data\n",
    "# loop van maken\n",
    "fp =\"C:/Users/hanna/Documents/EPA/Urban Data Science/Final assignment/data/cropped.osm.pbf\""
   ]
  },
  {
   "cell_type": "code",
   "execution_count": 52,
   "metadata": {},
   "outputs": [
    {
     "name": "stderr",
     "output_type": "stream",
     "text": [
      "C:\\Users\\hanna\\Anaconda3\\envs\\gds\\lib\\site-packages\\pyrosm\\pois.py:19: VisibleDeprecationWarning: Creating an ndarray from ragged nested sequences (which is a list-or-tuple of lists-or-tuples-or ndarrays with different lengths or shapes) is deprecated. If you meant to do this, you must specify 'dtype=object' when creating the ndarray\n",
      "  osm_keys=None,\n"
     ]
    },
    {
     "ename": "KeyError",
     "evalue": "'shop'",
     "output_type": "error",
     "traceback": [
      "\u001b[1;31m---------------------------------------------------------------------------\u001b[0m",
      "\u001b[1;31mKeyError\u001b[0m                                  Traceback (most recent call last)",
      "\u001b[1;32m~\\Anaconda3\\envs\\gds\\lib\\site-packages\\pandas\\core\\indexes\\base.py\u001b[0m in \u001b[0;36mget_loc\u001b[1;34m(self, key, method, tolerance)\u001b[0m\n\u001b[0;32m   2888\u001b[0m             \u001b[1;32mtry\u001b[0m\u001b[1;33m:\u001b[0m\u001b[1;33m\u001b[0m\u001b[1;33m\u001b[0m\u001b[0m\n\u001b[1;32m-> 2889\u001b[1;33m                 \u001b[1;32mreturn\u001b[0m \u001b[0mself\u001b[0m\u001b[1;33m.\u001b[0m\u001b[0m_engine\u001b[0m\u001b[1;33m.\u001b[0m\u001b[0mget_loc\u001b[0m\u001b[1;33m(\u001b[0m\u001b[0mcasted_key\u001b[0m\u001b[1;33m)\u001b[0m\u001b[1;33m\u001b[0m\u001b[1;33m\u001b[0m\u001b[0m\n\u001b[0m\u001b[0;32m   2890\u001b[0m             \u001b[1;32mexcept\u001b[0m \u001b[0mKeyError\u001b[0m \u001b[1;32mas\u001b[0m \u001b[0merr\u001b[0m\u001b[1;33m:\u001b[0m\u001b[1;33m\u001b[0m\u001b[1;33m\u001b[0m\u001b[0m\n",
      "\u001b[1;32mpandas\\_libs\\index.pyx\u001b[0m in \u001b[0;36mpandas._libs.index.IndexEngine.get_loc\u001b[1;34m()\u001b[0m\n",
      "\u001b[1;32mpandas\\_libs\\index.pyx\u001b[0m in \u001b[0;36mpandas._libs.index.IndexEngine.get_loc\u001b[1;34m()\u001b[0m\n",
      "\u001b[1;32mpandas\\_libs\\hashtable_class_helper.pxi\u001b[0m in \u001b[0;36mpandas._libs.hashtable.PyObjectHashTable.get_item\u001b[1;34m()\u001b[0m\n",
      "\u001b[1;32mpandas\\_libs\\hashtable_class_helper.pxi\u001b[0m in \u001b[0;36mpandas._libs.hashtable.PyObjectHashTable.get_item\u001b[1;34m()\u001b[0m\n",
      "\u001b[1;31mKeyError\u001b[0m: 'shop'",
      "\nThe above exception was the direct cause of the following exception:\n",
      "\u001b[1;31mKeyError\u001b[0m                                  Traceback (most recent call last)",
      "\u001b[1;32m<ipython-input-52-4b6d5ed971a0>\u001b[0m in \u001b[0;36m<module>\u001b[1;34m\u001b[0m\n\u001b[0;32m     11\u001b[0m \u001b[1;33m\u001b[0m\u001b[0m\n\u001b[0;32m     12\u001b[0m \u001b[1;31m# Merge poi type information into a single column\u001b[0m\u001b[1;33m\u001b[0m\u001b[1;33m\u001b[0m\u001b[1;33m\u001b[0m\u001b[0m\n\u001b[1;32m---> 13\u001b[1;33m \u001b[0mpois\u001b[0m\u001b[1;33m[\u001b[0m\u001b[1;34m\"shop\"\u001b[0m\u001b[1;33m]\u001b[0m \u001b[1;33m=\u001b[0m \u001b[0mpois\u001b[0m\u001b[1;33m[\u001b[0m\u001b[1;34m\"shop\"\u001b[0m\u001b[1;33m]\u001b[0m\u001b[1;33m.\u001b[0m\u001b[0mfillna\u001b[0m\u001b[1;33m(\u001b[0m\u001b[1;34m' '\u001b[0m\u001b[1;33m)\u001b[0m\u001b[1;33m\u001b[0m\u001b[1;33m\u001b[0m\u001b[0m\n\u001b[0m\u001b[0;32m     14\u001b[0m \u001b[0mpois\u001b[0m\u001b[1;33m[\u001b[0m\u001b[1;34m\"amenity\"\u001b[0m\u001b[1;33m]\u001b[0m \u001b[1;33m=\u001b[0m \u001b[0mpois\u001b[0m\u001b[1;33m[\u001b[0m\u001b[1;34m\"amenity\"\u001b[0m\u001b[1;33m]\u001b[0m\u001b[1;33m.\u001b[0m\u001b[0mfillna\u001b[0m\u001b[1;33m(\u001b[0m\u001b[1;34m' '\u001b[0m\u001b[1;33m)\u001b[0m\u001b[1;33m\u001b[0m\u001b[1;33m\u001b[0m\u001b[0m\n\u001b[0;32m     15\u001b[0m \u001b[0mpois\u001b[0m\u001b[1;33m[\u001b[0m\u001b[1;34m\"building\"\u001b[0m\u001b[1;33m]\u001b[0m \u001b[1;33m=\u001b[0m \u001b[0mpois\u001b[0m\u001b[1;33m[\u001b[0m\u001b[1;34m\"building\"\u001b[0m\u001b[1;33m]\u001b[0m\u001b[1;33m.\u001b[0m\u001b[0mfillna\u001b[0m\u001b[1;33m(\u001b[0m\u001b[1;34m' '\u001b[0m\u001b[1;33m)\u001b[0m\u001b[1;33m\u001b[0m\u001b[1;33m\u001b[0m\u001b[0m\n",
      "\u001b[1;32m~\\Anaconda3\\envs\\gds\\lib\\site-packages\\geopandas\\geodataframe.py\u001b[0m in \u001b[0;36m__getitem__\u001b[1;34m(self, key)\u001b[0m\n\u001b[0;32m    826\u001b[0m         \u001b[0mGeoDataFrame\u001b[0m\u001b[1;33m.\u001b[0m\u001b[1;33m\u001b[0m\u001b[1;33m\u001b[0m\u001b[0m\n\u001b[0;32m    827\u001b[0m         \"\"\"\n\u001b[1;32m--> 828\u001b[1;33m         \u001b[0mresult\u001b[0m \u001b[1;33m=\u001b[0m \u001b[0msuper\u001b[0m\u001b[1;33m(\u001b[0m\u001b[0mGeoDataFrame\u001b[0m\u001b[1;33m,\u001b[0m \u001b[0mself\u001b[0m\u001b[1;33m)\u001b[0m\u001b[1;33m.\u001b[0m\u001b[0m__getitem__\u001b[0m\u001b[1;33m(\u001b[0m\u001b[0mkey\u001b[0m\u001b[1;33m)\u001b[0m\u001b[1;33m\u001b[0m\u001b[1;33m\u001b[0m\u001b[0m\n\u001b[0m\u001b[0;32m    829\u001b[0m         \u001b[0mgeo_col\u001b[0m \u001b[1;33m=\u001b[0m \u001b[0mself\u001b[0m\u001b[1;33m.\u001b[0m\u001b[0m_geometry_column_name\u001b[0m\u001b[1;33m\u001b[0m\u001b[1;33m\u001b[0m\u001b[0m\n\u001b[0;32m    830\u001b[0m         \u001b[1;32mif\u001b[0m \u001b[0misinstance\u001b[0m\u001b[1;33m(\u001b[0m\u001b[0mresult\u001b[0m\u001b[1;33m,\u001b[0m \u001b[0mSeries\u001b[0m\u001b[1;33m)\u001b[0m \u001b[1;32mand\u001b[0m \u001b[0misinstance\u001b[0m\u001b[1;33m(\u001b[0m\u001b[0mresult\u001b[0m\u001b[1;33m.\u001b[0m\u001b[0mdtype\u001b[0m\u001b[1;33m,\u001b[0m \u001b[0mGeometryDtype\u001b[0m\u001b[1;33m)\u001b[0m\u001b[1;33m:\u001b[0m\u001b[1;33m\u001b[0m\u001b[1;33m\u001b[0m\u001b[0m\n",
      "\u001b[1;32m~\\Anaconda3\\envs\\gds\\lib\\site-packages\\pandas\\core\\frame.py\u001b[0m in \u001b[0;36m__getitem__\u001b[1;34m(self, key)\u001b[0m\n\u001b[0;32m   2900\u001b[0m             \u001b[1;32mif\u001b[0m \u001b[0mself\u001b[0m\u001b[1;33m.\u001b[0m\u001b[0mcolumns\u001b[0m\u001b[1;33m.\u001b[0m\u001b[0mnlevels\u001b[0m \u001b[1;33m>\u001b[0m \u001b[1;36m1\u001b[0m\u001b[1;33m:\u001b[0m\u001b[1;33m\u001b[0m\u001b[1;33m\u001b[0m\u001b[0m\n\u001b[0;32m   2901\u001b[0m                 \u001b[1;32mreturn\u001b[0m \u001b[0mself\u001b[0m\u001b[1;33m.\u001b[0m\u001b[0m_getitem_multilevel\u001b[0m\u001b[1;33m(\u001b[0m\u001b[0mkey\u001b[0m\u001b[1;33m)\u001b[0m\u001b[1;33m\u001b[0m\u001b[1;33m\u001b[0m\u001b[0m\n\u001b[1;32m-> 2902\u001b[1;33m             \u001b[0mindexer\u001b[0m \u001b[1;33m=\u001b[0m \u001b[0mself\u001b[0m\u001b[1;33m.\u001b[0m\u001b[0mcolumns\u001b[0m\u001b[1;33m.\u001b[0m\u001b[0mget_loc\u001b[0m\u001b[1;33m(\u001b[0m\u001b[0mkey\u001b[0m\u001b[1;33m)\u001b[0m\u001b[1;33m\u001b[0m\u001b[1;33m\u001b[0m\u001b[0m\n\u001b[0m\u001b[0;32m   2903\u001b[0m             \u001b[1;32mif\u001b[0m \u001b[0mis_integer\u001b[0m\u001b[1;33m(\u001b[0m\u001b[0mindexer\u001b[0m\u001b[1;33m)\u001b[0m\u001b[1;33m:\u001b[0m\u001b[1;33m\u001b[0m\u001b[1;33m\u001b[0m\u001b[0m\n\u001b[0;32m   2904\u001b[0m                 \u001b[0mindexer\u001b[0m \u001b[1;33m=\u001b[0m \u001b[1;33m[\u001b[0m\u001b[0mindexer\u001b[0m\u001b[1;33m]\u001b[0m\u001b[1;33m\u001b[0m\u001b[1;33m\u001b[0m\u001b[0m\n",
      "\u001b[1;32m~\\Anaconda3\\envs\\gds\\lib\\site-packages\\pandas\\core\\indexes\\base.py\u001b[0m in \u001b[0;36mget_loc\u001b[1;34m(self, key, method, tolerance)\u001b[0m\n\u001b[0;32m   2889\u001b[0m                 \u001b[1;32mreturn\u001b[0m \u001b[0mself\u001b[0m\u001b[1;33m.\u001b[0m\u001b[0m_engine\u001b[0m\u001b[1;33m.\u001b[0m\u001b[0mget_loc\u001b[0m\u001b[1;33m(\u001b[0m\u001b[0mcasted_key\u001b[0m\u001b[1;33m)\u001b[0m\u001b[1;33m\u001b[0m\u001b[1;33m\u001b[0m\u001b[0m\n\u001b[0;32m   2890\u001b[0m             \u001b[1;32mexcept\u001b[0m \u001b[0mKeyError\u001b[0m \u001b[1;32mas\u001b[0m \u001b[0merr\u001b[0m\u001b[1;33m:\u001b[0m\u001b[1;33m\u001b[0m\u001b[1;33m\u001b[0m\u001b[0m\n\u001b[1;32m-> 2891\u001b[1;33m                 \u001b[1;32mraise\u001b[0m \u001b[0mKeyError\u001b[0m\u001b[1;33m(\u001b[0m\u001b[0mkey\u001b[0m\u001b[1;33m)\u001b[0m \u001b[1;32mfrom\u001b[0m \u001b[0merr\u001b[0m\u001b[1;33m\u001b[0m\u001b[1;33m\u001b[0m\u001b[0m\n\u001b[0m\u001b[0;32m   2892\u001b[0m \u001b[1;33m\u001b[0m\u001b[0m\n\u001b[0;32m   2893\u001b[0m         \u001b[1;32mif\u001b[0m \u001b[0mtolerance\u001b[0m \u001b[1;32mis\u001b[0m \u001b[1;32mnot\u001b[0m \u001b[1;32mNone\u001b[0m\u001b[1;33m:\u001b[0m\u001b[1;33m\u001b[0m\u001b[1;33m\u001b[0m\u001b[0m\n",
      "\u001b[1;31mKeyError\u001b[0m: 'shop'"
     ]
    }
   ],
   "source": [
    "# Get the shapely geometry from GeoDataFrame\n",
    "#bbox_geom = [4.420, 51.868, 4.561, 51.942]\n",
    "\n",
    "# Initiliaze with bounding box\n",
    "osm = OSM(filepath=fp)\n",
    "#osm = OSM(fp)\n",
    "\n",
    "# Read POIs with custom filter \n",
    "my_filter={\"amenity\": True}\n",
    "pois = osm.get_pois(custom_filter=my_filter)\n",
    "\n",
    "# Merge poi type information into a single column\n",
    "pois[\"shop\"] = pois[\"shop\"].fillna(' ')\n",
    "pois[\"amenity\"] = pois[\"amenity\"].fillna(' ')\n",
    "pois[\"building\"] = pois[\"building\"].fillna(' ')\n",
    "pois[\"poi_type\"] = pois[\"amenity\"] + pois[\"shop\"] + pois[\"building\"]\n",
    "\n",
    "# Plot\n",
    "ax = pois.plot(column=\"poi_type\", legend=True, markersize=4, figsize=(14,8), legend_kwds=dict(loc='upper left', ncol=2, bbox_to_anchor=(1, 1)))"
   ]
  },
  {
   "cell_type": "code",
   "execution_count": null,
   "metadata": {},
   "outputs": [],
   "source": [
    "pois.tail()"
   ]
  },
  {
   "cell_type": "code",
   "execution_count": null,
   "metadata": {},
   "outputs": [],
   "source": [
    "osm.head()"
   ]
  },
  {
   "cell_type": "code",
   "execution_count": null,
   "metadata": {},
   "outputs": [],
   "source": [
    "bbox_geom.plot()"
   ]
  },
  {
   "cell_type": "code",
   "execution_count": 41,
   "metadata": {},
   "outputs": [
    {
     "name": "stderr",
     "output_type": "stream",
     "text": [
      "C:\\Users\\hanna\\Anaconda3\\envs\\gds\\lib\\site-packages\\pyrosm\\buildings.py:27: VisibleDeprecationWarning: Creating an ndarray from ragged nested sequences (which is a list-or-tuple of lists-or-tuples-or ndarrays with different lengths or shapes) is deprecated. If you meant to do this, you must specify 'dtype=object' when creating the ndarray\n",
      "  osm_keys=None\n"
     ]
    }
   ],
   "source": [
    "osm1 = OSM(fp)\n",
    "a = osm1.get_buildings()"
   ]
  },
  {
   "cell_type": "code",
   "execution_count": 35,
   "metadata": {},
   "outputs": [
    {
     "data": {
      "text/plain": [
       "'C:\\\\Users\\\\hanna\\\\Anaconda3\\\\envs\\\\gds\\\\lib\\\\site-packages\\\\pyrosm\\\\data\\\\test.osm.pbf'"
      ]
     },
     "execution_count": 35,
     "metadata": {},
     "output_type": "execute_result"
    }
   ],
   "source": [
    "import pytest\n",
    "def test_pbf():\n",
    "    pbf_path = get_data(\"test_pbf\")\n",
    "    return pbf_path\n",
    "test_pbf=test_pbf()\n",
    "test_pbf"
   ]
  },
  {
   "cell_type": "code",
   "execution_count": 28,
   "metadata": {},
   "outputs": [
    {
     "name": "stderr",
     "output_type": "stream",
     "text": [
      "C:\\Users\\hanna\\Anaconda3\\envs\\gds\\lib\\site-packages\\pyrosm\\buildings.py:27: VisibleDeprecationWarning: Creating an ndarray from ragged nested sequences (which is a list-or-tuple of lists-or-tuples-or ndarrays with different lengths or shapes) is deprecated. If you meant to do this, you must specify 'dtype=object' when creating the ndarray\n",
      "  osm_keys=None\n"
     ]
    }
   ],
   "source": [
    "from pyrosm import OSM\n",
    "from geopandas import GeoDataFrame\n",
    "from shapely.geometry import Polygon\n",
    "\n",
    "bounds = [26.94, 60.525, 26.96, 60.535]\n",
    "# Init with bounding box\n",
    "osm = OSM(filepath=test_pbf, bounding_box=bounds)\n",
    "gdf = osm.get_buildings()\n",
    "\n",
    "assert isinstance(gdf.loc[0, 'geometry'], Polygon)\n",
    "assert isinstance(gdf, GeoDataFrame)\n",
    "\n",
    "# Test shape\n",
    "assert gdf.shape == (569, 15)\n",
    "\n",
    "required_cols = ['building', 'addr:street',\n",
    "                 'addr:postcode', 'addr:housenumber',\n",
    "                 'opening_hours', 'id',\n",
    "                 'timestamp', 'version', 'geometry', 'tags']\n",
    "\n",
    "for col in required_cols:\n",
    "    assert col in gdf.columns\n",
    "\n",
    "# The total bounds of the result should not be larger than the filter\n",
    "# (allow some rounding error)\n",
    "result_bounds = gdf.total_bounds\n",
    "for coord1, coord2 in zip(bounds, result_bounds):\n",
    "    assert round(coord2, 3) >= round(coord1, 3)\n",
    "\n"
   ]
  },
  {
   "cell_type": "code",
   "execution_count": 36,
   "metadata": {},
   "outputs": [
    {
     "name": "stderr",
     "output_type": "stream",
     "text": [
      "C:\\Users\\hanna\\Anaconda3\\envs\\gds\\lib\\site-packages\\pyrosm\\buildings.py:27: VisibleDeprecationWarning: Creating an ndarray from ragged nested sequences (which is a list-or-tuple of lists-or-tuples-or ndarrays with different lengths or shapes) is deprecated. If you meant to do this, you must specify 'dtype=object' when creating the ndarray\n",
      "  osm_keys=None\n"
     ]
    },
    {
     "ename": "AttributeError",
     "evalue": "'OSM' object has no attribute 'head'",
     "output_type": "error",
     "traceback": [
      "\u001b[1;31m---------------------------------------------------------------------------\u001b[0m",
      "\u001b[1;31mAttributeError\u001b[0m                            Traceback (most recent call last)",
      "\u001b[1;32m<ipython-input-36-7e580925dcd7>\u001b[0m in \u001b[0;36m<module>\u001b[1;34m\u001b[0m\n\u001b[0;32m      4\u001b[0m \u001b[0mgdf\u001b[0m \u001b[1;33m=\u001b[0m \u001b[0mosm\u001b[0m\u001b[1;33m.\u001b[0m\u001b[0mget_buildings\u001b[0m\u001b[1;33m(\u001b[0m\u001b[1;33m)\u001b[0m\u001b[1;33m\u001b[0m\u001b[1;33m\u001b[0m\u001b[0m\n\u001b[0;32m      5\u001b[0m \u001b[0mgdf\u001b[0m\u001b[1;33m.\u001b[0m\u001b[0mplot\u001b[0m\u001b[1;33m(\u001b[0m\u001b[1;33m)\u001b[0m\u001b[1;33m\u001b[0m\u001b[1;33m\u001b[0m\u001b[0m\n\u001b[1;32m----> 6\u001b[1;33m \u001b[0mosm\u001b[0m\u001b[1;33m.\u001b[0m\u001b[0mhead\u001b[0m\u001b[1;33m(\u001b[0m\u001b[1;33m)\u001b[0m\u001b[1;33m\u001b[0m\u001b[1;33m\u001b[0m\u001b[0m\n\u001b[0m",
      "\u001b[1;32m~\\Anaconda3\\envs\\gds\\lib\\site-packages\\pyrosm\\pyrosm.py\u001b[0m in \u001b[0;36m__getattribute__\u001b[1;34m(self, name)\u001b[0m\n\u001b[0;32m    634\u001b[0m         \u001b[1;32mif\u001b[0m \u001b[0mname\u001b[0m \u001b[1;33m==\u001b[0m \u001b[1;34m\"_nodes_gdf\"\u001b[0m\u001b[1;33m:\u001b[0m\u001b[1;33m\u001b[0m\u001b[1;33m\u001b[0m\u001b[0m\n\u001b[0;32m    635\u001b[0m             \u001b[1;32mreturn\u001b[0m \u001b[0mcreate_nodes_gdf\u001b[0m\u001b[1;33m(\u001b[0m\u001b[0msuper\u001b[0m\u001b[1;33m(\u001b[0m\u001b[0mOSM\u001b[0m\u001b[1;33m,\u001b[0m \u001b[0mself\u001b[0m\u001b[1;33m)\u001b[0m\u001b[1;33m.\u001b[0m\u001b[0m__getattribute__\u001b[0m\u001b[1;33m(\u001b[0m\u001b[1;34m\"_nodes\"\u001b[0m\u001b[1;33m)\u001b[0m\u001b[1;33m)\u001b[0m\u001b[1;33m\u001b[0m\u001b[1;33m\u001b[0m\u001b[0m\n\u001b[1;32m--> 636\u001b[1;33m         \u001b[1;32mreturn\u001b[0m \u001b[0msuper\u001b[0m\u001b[1;33m(\u001b[0m\u001b[0mOSM\u001b[0m\u001b[1;33m,\u001b[0m \u001b[0mself\u001b[0m\u001b[1;33m)\u001b[0m\u001b[1;33m.\u001b[0m\u001b[0m__getattribute__\u001b[0m\u001b[1;33m(\u001b[0m\u001b[0mname\u001b[0m\u001b[1;33m)\u001b[0m\u001b[1;33m\u001b[0m\u001b[1;33m\u001b[0m\u001b[0m\n\u001b[0m",
      "\u001b[1;31mAttributeError\u001b[0m: 'OSM' object has no attribute 'head'"
     ]
    },
    {
     "data": {
      "image/png": "[encoded data removed]",
      "text/plain": [
       "<Figure size 432x288 with 1 Axes>"
      ]
     },
     "metadata": {
      "needs_background": "light"
     },
     "output_type": "display_data"
    }
   ],
   "source": [
    "bounds = [26.94, 60.525, 26.96, 60.535]\n",
    "# Init with bounding box\n",
    "osm = OSM(filepath=test_pbf, bounding_box=bounds)\n",
    "gdf = osm.get_buildings()\n",
    "gdf.plot()\n",
    "osm.head()"
   ]
  },
  {
   "cell_type": "code",
   "execution_count": 34,
   "metadata": {},
   "outputs": [
    {
     "name": "stderr",
     "output_type": "stream",
     "text": [
      "C:\\Users\\hanna\\Anaconda3\\envs\\gds\\lib\\site-packages\\pyrosm\\buildings.py:27: VisibleDeprecationWarning: Creating an ndarray from ragged nested sequences (which is a list-or-tuple of lists-or-tuples-or ndarrays with different lengths or shapes) is deprecated. If you meant to do this, you must specify 'dtype=object' when creating the ndarray\n",
      "  osm_keys=None\n"
     ]
    },
    {
     "data": {
      "text/plain": [
       "<AxesSubplot:>"
      ]
     },
     "execution_count": 34,
     "metadata": {},
     "output_type": "execute_result"
    },
    {
     "data": {
      "image/png": "[encoded data removed]",
      "text/plain": [
       "<Figure size 432x288 with 1 Axes>"
      ]
     },
     "metadata": {
      "needs_background": "light"
     },
     "output_type": "display_data"
    }
   ],
   "source": [
    "bounds = [26.94, 60.525, 26.96, 60.535]\n",
    "# Init with bounding box\n",
    "osm = OSM(filepath=test_pbf)\n",
    "gdf = osm.get_buildings()\n",
    "gdf.plot()"
   ]
  },
  {
   "cell_type": "code",
   "execution_count": 53,
   "metadata": {},
   "outputs": [
    {
     "ename": "NameError",
     "evalue": "name 'UTD19Cities' is not defined",
     "output_type": "error",
     "traceback": [
      "\u001b[1;31m---------------------------------------------------------------------------\u001b[0m",
      "\u001b[1;31mNameError\u001b[0m                                 Traceback (most recent call last)",
      "\u001b[1;32m<ipython-input-53-4eeafe932b53>\u001b[0m in \u001b[0;36m<module>\u001b[1;34m\u001b[0m\n\u001b[1;32m----> 1\u001b[1;33m \u001b[0mmaxlonglt\u001b[0m \u001b[1;33m=\u001b[0m \u001b[0mUTD19Cities\u001b[0m\u001b[1;33m.\u001b[0m\u001b[0mloc\u001b[0m\u001b[1;33m[\u001b[0m\u001b[0mUTD19Cities\u001b[0m\u001b[1;33m.\u001b[0m\u001b[0mcitycode\u001b[0m \u001b[1;33m==\u001b[0m \u001b[1;34m'rotterdam'\u001b[0m\u001b[1;33m,\u001b[0m \u001b[1;33m[\u001b[0m\u001b[1;34m'long'\u001b[0m\u001b[1;33m,\u001b[0m \u001b[1;34m'lat'\u001b[0m\u001b[1;33m]\u001b[0m\u001b[1;33m]\u001b[0m\u001b[1;33m.\u001b[0m\u001b[0mmax\u001b[0m\u001b[1;33m(\u001b[0m\u001b[1;33m)\u001b[0m \u001b[1;31m# maxlonglat[0] = long, 1 lat\u001b[0m\u001b[1;33m\u001b[0m\u001b[1;33m\u001b[0m\u001b[0m\n\u001b[0m\u001b[0;32m      2\u001b[0m \u001b[0mminlonglt\u001b[0m \u001b[1;33m=\u001b[0m \u001b[0mUTD19Cities\u001b[0m\u001b[1;33m.\u001b[0m\u001b[0mloc\u001b[0m\u001b[1;33m[\u001b[0m\u001b[0mUTD19Cities\u001b[0m\u001b[1;33m.\u001b[0m\u001b[0mcitycode\u001b[0m \u001b[1;33m==\u001b[0m \u001b[1;34m'rotterdam'\u001b[0m\u001b[1;33m,\u001b[0m \u001b[1;33m[\u001b[0m\u001b[1;34m'long'\u001b[0m\u001b[1;33m,\u001b[0m \u001b[1;34m'lat'\u001b[0m\u001b[1;33m]\u001b[0m\u001b[1;33m]\u001b[0m\u001b[1;33m.\u001b[0m\u001b[0mmin\u001b[0m\u001b[1;33m(\u001b[0m\u001b[1;33m)\u001b[0m \u001b[1;31m#\u001b[0m\u001b[1;33m\u001b[0m\u001b[1;33m\u001b[0m\u001b[0m\n\u001b[0;32m      3\u001b[0m \u001b[0mnorth\u001b[0m \u001b[1;33m=\u001b[0m \u001b[0mmaxlonglt\u001b[0m\u001b[1;33m[\u001b[0m\u001b[1;36m1\u001b[0m\u001b[1;33m]\u001b[0m\u001b[1;33m\u001b[0m\u001b[1;33m\u001b[0m\u001b[0m\n\u001b[0;32m      4\u001b[0m \u001b[0msouth\u001b[0m \u001b[1;33m=\u001b[0m \u001b[0mminlonglt\u001b[0m\u001b[1;33m[\u001b[0m\u001b[1;36m1\u001b[0m\u001b[1;33m]\u001b[0m\u001b[1;33m\u001b[0m\u001b[1;33m\u001b[0m\u001b[0m\n\u001b[0;32m      5\u001b[0m \u001b[0meast\u001b[0m \u001b[1;33m=\u001b[0m \u001b[0mmaxlonglt\u001b[0m\u001b[1;33m[\u001b[0m\u001b[1;36m0\u001b[0m\u001b[1;33m]\u001b[0m\u001b[1;33m\u001b[0m\u001b[1;33m\u001b[0m\u001b[0m\n",
      "\u001b[1;31mNameError\u001b[0m: name 'UTD19Cities' is not defined"
     ]
    }
   ],
   "source": [
    "citylist = ['Munich', 'Rotterdam-Hague', 'Frankfurt', 'Hamburg', 'Zurich']\n",
    "\n",
    "maxlonglt = UTD19Cities.loc[UTD19Cities.citycode == 'rotterdam', ['long', 'lat']].max() # maxlonglat[0] = long, 1 lat\n",
    "minlonglt = UTD19Cities.loc[UTD19Cities.citycode == 'rotterdam', ['long', 'lat']].min() #\n",
    "north = maxlonglt[1] \n",
    "south = minlonglt[1]\n",
    "east = maxlonglt[0]\n",
    "west = minlonglt[0]"
   ]
  },
  {
   "cell_type": "code",
   "execution_count": null,
   "metadata": {},
   "outputs": [],
   "source": []
  }
 ],
 "metadata": {
  "kernelspec": {
   "display_name": "Python 3",
   "language": "python",
   "name": "python3"
  },
  "language_info": {
   "codemirror_mode": {
    "name": "ipython",
    "version": 3
   },
   "file_extension": ".py",
   "mimetype": "text/x-python",
   "name": "python",
   "nbconvert_exporter": "python",
   "pygments_lexer": "ipython3",
   "version": "3.7.8"
  }
 },
 "nbformat": 4,
 "nbformat_minor": 4
}
