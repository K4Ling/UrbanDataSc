{
 "cells": [
  {
   "cell_type": "markdown",
   "metadata": {
    "editable": true
   },
   "source": [
    "# Project description\n",
    "Urban mobility significantly contributes to global environmental impact. With the growth in urbanareas worldwide, cities are implementing policies to focus on sustainable urban and mobility devel-opment. Urban areas exhibit high variability in structure, economic output, mobility behaviour,among others. Pinpointing to the exact causes of emissions is impossible. However, understandingthe relationship of mobility with infrastructure resources and other urban indicators may help gov-ernments predict long-term mobility behaviour and intervene with future pathways into sustainablemobility options. </br>\n",
    "\n",
    "Project goals: You are tasked to identify how mobility is related to the infrastructural form of acity and across multiple cities. Use your findings toward helping governments transform mobilitywithin cities for reducing environmental impacts of mobility use.\n",
    "Data: </br>\n",
    "1. Local city-wide indicators of urban mobility: Multi-city Traffic Datasetprovided publicly byThe Institute for Transport Planning and Systems at ETH Zurich.\n",
    "2. Global city-wide indicators of urban mobility and environmental impacts:Urban TypologiesProject[Reference]3.Get indicators for infrastructure resources from OSMNX (street networks) and PYROSM(amenities and points of interest) python packages.High-level project goals1.Explore, Investigate, and Visualize various factors of the mobility data across cities of interest.2.Describe and incorporate additional data sources that you will use to help you understandrelationships between mobility and the built environment.\n",
    "3. Identify correlations between mobility and the built environment.4.Perform clustering or LISA analysis on city streets where congestion may be related stronglywith the presence of certain amenities. Think about how that may vary with distance toamenities.\n",
    "4. Or, train and evaluate models using the mobility data (either as predictors or as the primaryresponse in some fashion) and your data sources.\n",
    "6. Use and interpret your models to discuss the causes and correlations of or effects due todifferences in congestion across cities or within a city of your choice.\n",
    "7. Aggregate city-wide findings to correlate with environmental indicators used in data set (2) -urban typology - to comment on policy initiatives of the governments. (Think how you mayaggregate city-wide findings to a single score for the whole city to compare with indicatorsused in data set \n",
    "\n",
    "(2))Note: Not all data may be available for all cities. Hence, conduct this analysis for at least5citiesoverlapping between sets1and2in the data. You are welcome to do the analysis in many morecities.\n",
    "\n",
    "# blabla"
   ]
  },
  {
   "cell_type": "code",
   "execution_count": 3,
   "metadata": {},
   "outputs": [],
   "source": [
    "# \n",
    "import pandas as pd\n",
    "import geopandas as gpd"
   ]
  },
  {
   "cell_type": "code",
   "execution_count": 5,
   "metadata": {},
   "outputs": [
    {
     "data": {
      "text/html": [
       "<div>\n",
       "<style scoped>\n",
       "    .dataframe tbody tr th:only-of-type {\n",
       "        vertical-align: middle;\n",
       "    }\n",
       "\n",
       "    .dataframe tbody tr th {\n",
       "        vertical-align: top;\n",
       "    }\n",
       "\n",
       "    .dataframe thead th {\n",
       "        text-align: right;\n",
       "    }\n",
       "</style>\n",
       "<table border=\"1\" class=\"dataframe\">\n",
       "  <thead>\n",
       "    <tr style=\"text-align: right;\">\n",
       "      <th></th>\n",
       "      <th>detid</th>\n",
       "      <th>length</th>\n",
       "      <th>pos</th>\n",
       "      <th>fclass</th>\n",
       "      <th>road</th>\n",
       "      <th>limit</th>\n",
       "      <th>citycode</th>\n",
       "      <th>lanes</th>\n",
       "      <th>linkid</th>\n",
       "      <th>long</th>\n",
       "      <th>lat</th>\n",
       "    </tr>\n",
       "  </thead>\n",
       "  <tbody>\n",
       "    <tr>\n",
       "      <th>0</th>\n",
       "      <td>U1-52G</td>\n",
       "      <td>0.196037</td>\n",
       "      <td>0.005512</td>\n",
       "      <td>secondary</td>\n",
       "      <td>Gögginger Straße</td>\n",
       "      <td>50</td>\n",
       "      <td>augsburg</td>\n",
       "      <td>1.0</td>\n",
       "      <td>72.0</td>\n",
       "      <td>10.889553</td>\n",
       "      <td>48.359957</td>\n",
       "    </tr>\n",
       "    <tr>\n",
       "      <th>1</th>\n",
       "      <td>U1-51G</td>\n",
       "      <td>0.130039</td>\n",
       "      <td>0.004013</td>\n",
       "      <td>secondary</td>\n",
       "      <td>Gögginger Straße</td>\n",
       "      <td>50</td>\n",
       "      <td>augsburg</td>\n",
       "      <td>1.0</td>\n",
       "      <td>73.0</td>\n",
       "      <td>10.889601</td>\n",
       "      <td>48.359945</td>\n",
       "    </tr>\n",
       "    <tr>\n",
       "      <th>2</th>\n",
       "      <td>U1-52L</td>\n",
       "      <td>0.155863</td>\n",
       "      <td>0.022228</td>\n",
       "      <td>secondary</td>\n",
       "      <td>Gögginger Straße</td>\n",
       "      <td>50</td>\n",
       "      <td>augsburg</td>\n",
       "      <td>1.0</td>\n",
       "      <td>70.0</td>\n",
       "      <td>10.889355</td>\n",
       "      <td>48.359876</td>\n",
       "    </tr>\n",
       "    <tr>\n",
       "      <th>3</th>\n",
       "      <td>U1-51L</td>\n",
       "      <td>0.197675</td>\n",
       "      <td>0.021889</td>\n",
       "      <td>secondary</td>\n",
       "      <td>Gögginger Straße</td>\n",
       "      <td>50</td>\n",
       "      <td>augsburg</td>\n",
       "      <td>1.0</td>\n",
       "      <td>71.0</td>\n",
       "      <td>10.889396</td>\n",
       "      <td>48.359862</td>\n",
       "    </tr>\n",
       "    <tr>\n",
       "      <th>4</th>\n",
       "      <td>U1-62</td>\n",
       "      <td>0.065183</td>\n",
       "      <td>0.024465</td>\n",
       "      <td>secondary</td>\n",
       "      <td>Rosenaustraße</td>\n",
       "      <td>50</td>\n",
       "      <td>augsburg</td>\n",
       "      <td>1.0</td>\n",
       "      <td>68.0</td>\n",
       "      <td>10.889361</td>\n",
       "      <td>48.360578</td>\n",
       "    </tr>\n",
       "  </tbody>\n",
       "</table>\n",
       "</div>"
      ],
      "text/plain": [
       "    detid    length       pos     fclass              road limit  citycode  \\\n",
       "0  U1-52G  0.196037  0.005512  secondary  Gögginger Straße    50  augsburg   \n",
       "1  U1-51G  0.130039  0.004013  secondary  Gögginger Straße    50  augsburg   \n",
       "2  U1-52L  0.155863  0.022228  secondary  Gögginger Straße    50  augsburg   \n",
       "3  U1-51L  0.197675  0.021889  secondary  Gögginger Straße    50  augsburg   \n",
       "4   U1-62  0.065183  0.024465  secondary     Rosenaustraße    50  augsburg   \n",
       "\n",
       "   lanes  linkid       long        lat  \n",
       "0    1.0    72.0  10.889553  48.359957  \n",
       "1    1.0    73.0  10.889601  48.359945  \n",
       "2    1.0    70.0  10.889355  48.359876  \n",
       "3    1.0    71.0  10.889396  48.359862  \n",
       "4    1.0    68.0  10.889361  48.360578  "
      ]
     },
     "execution_count": 5,
     "metadata": {},
     "output_type": "execute_result"
    }
   ],
   "source": [
    "UTD19 = pd.read_csv('Data/detectors_public.csv')\n",
    "UTD19.head()"
   ]
  },
  {
   "cell_type": "code",
   "execution_count": 9,
   "metadata": {},
   "outputs": [
    {
     "data": {
      "text/plain": [
       "array(['augsburg', 'basel', 'bern', 'birmingham', 'bolton', 'bordeaux',\n",
       "       'bremen', 'cagliari', 'constance', 'darmstadt', 'essen',\n",
       "       'frankfurt', 'graz', 'groningen', 'hamburg', 'innsbruck', 'kassel',\n",
       "       'london', 'losanageles', 'luzern', 'madrid', 'melbourne',\n",
       "       'manchester', 'marseille', 'munich', 'paris', 'rotterdam',\n",
       "       'santander', 'speyer', 'strasbourg', 'stuttgart', 'taipeh',\n",
       "       'tokyo', 'torino', 'toronto', 'toulouse', 'utrecht', 'vilnius',\n",
       "       'wolfsburg', 'zurich'], dtype=object)"
      ]
     },
     "execution_count": 9,
     "metadata": {},
     "output_type": "execute_result"
    }
   ],
   "source": [
    "UTD19.citycode.unique()"
   ]
  },
  {
   "cell_type": "code",
   "execution_count": null,
   "metadata": {},
   "outputs": [],
   "source": [
    "# munich, rotterdam, frankfurt, hamburg, paris"
   ]
  }
 ],
 "metadata": {
  "kernelspec": {
   "display_name": "Python 3",
   "language": "python",
   "name": "python3"
  },
  "language_info": {
   "codemirror_mode": {
    "name": "ipython",
    "version": 3
   },
   "file_extension": ".py",
   "mimetype": "text/x-python",
   "name": "python",
   "nbconvert_exporter": "python",
   "pygments_lexer": "ipython3",
   "version": "3.7.8"
  }
 },
 "nbformat": 4,
 "nbformat_minor": 4
}
