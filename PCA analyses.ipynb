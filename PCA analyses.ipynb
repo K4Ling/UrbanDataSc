{
 "cells": [
  {
   "cell_type": "code",
   "execution_count": 72,
   "metadata": {},
   "outputs": [],
   "source": [
    "import pandas as pd\n",
    "from sklearn.preprocessing import StandardScaler\n",
    "from sklearn.decomposition import PCA\n",
    "import pandas as pd\n",
    "import geopandas as gpd\n",
    "import pickle\n",
    "import numpy as np\n",
    "import seaborn as sns"
   ]
  },
  {
   "cell_type": "code",
   "execution_count": 53,
   "metadata": {},
   "outputs": [],
   "source": [
    "with open('Total.pickle', 'rb') as handle:\n",
    "    all_cities = pickle.load(handle)"
   ]
  },
  {
   "cell_type": "code",
   "execution_count": 54,
   "metadata": {},
   "outputs": [],
   "source": [
    "all_cities = all_cities[all_cities['flow'].notna()]"
   ]
  },
  {
   "cell_type": "code",
   "execution_count": 10,
   "metadata": {},
   "outputs": [],
   "source": [
    "#all_cities = all_cities.fillna(0)"
   ]
  },
  {
   "cell_type": "code",
   "execution_count": 58,
   "metadata": {},
   "outputs": [],
   "source": [
    "all_cities = all_cities[['station', 'cycleway', 'footway', 'pedestrian', 'flow', 'City']]"
   ]
  },
  {
   "cell_type": "code",
   "execution_count": 59,
   "metadata": {},
   "outputs": [],
   "source": [
    "grouped_cities = all_cities.groupby('City').mean()"
   ]
  },
  {
   "cell_type": "code",
   "execution_count": 60,
   "metadata": {},
   "outputs": [
    {
     "name": "stdout",
     "output_type": "stream",
     "text": [
      "<class 'pandas.core.frame.DataFrame'>\n",
      "Index: 5 entries, frankfurt to zurich\n",
      "Data columns (total 5 columns):\n",
      " #   Column      Non-Null Count  Dtype  \n",
      "---  ------      --------------  -----  \n",
      " 0   station     5 non-null      float64\n",
      " 1   cycleway    5 non-null      float64\n",
      " 2   footway     5 non-null      float64\n",
      " 3   pedestrian  5 non-null      float64\n",
      " 4   flow        5 non-null      float64\n",
      "dtypes: float64(5)\n",
      "memory usage: 240.0+ bytes\n"
     ]
    }
   ],
   "source": [
    "grouped_cities.info()"
   ]
  },
  {
   "cell_type": "code",
   "execution_count": 30,
   "metadata": {},
   "outputs": [
    {
     "data": {
      "text/html": [
       "<div>\n",
       "<style scoped>\n",
       "    .dataframe tbody tr th:only-of-type {\n",
       "        vertical-align: middle;\n",
       "    }\n",
       "\n",
       "    .dataframe tbody tr th {\n",
       "        vertical-align: top;\n",
       "    }\n",
       "\n",
       "    .dataframe thead th {\n",
       "        text-align: right;\n",
       "    }\n",
       "</style>\n",
       "<table border=\"1\" class=\"dataframe\">\n",
       "  <thead>\n",
       "    <tr style=\"text-align: right;\">\n",
       "      <th></th>\n",
       "      <th>index</th>\n",
       "      <th>City</th>\n",
       "      <th>cityID</th>\n",
       "      <th>clusterID</th>\n",
       "      <th>Typology</th>\n",
       "      <th>Country</th>\n",
       "      <th>Car Modeshare (%)</th>\n",
       "      <th>Public Transit Modeshare (%)</th>\n",
       "      <th>Bicycle Modeshare (%)</th>\n",
       "      <th>Walking Modeshare (%)</th>\n",
       "      <th>...</th>\n",
       "      <th>Highway Proportion</th>\n",
       "      <th>Metro Propensity Factor</th>\n",
       "      <th>BRT Propensity Factor</th>\n",
       "      <th>BikeShare Propensity Factor</th>\n",
       "      <th>Development Factor</th>\n",
       "      <th>Sustainability Factor</th>\n",
       "      <th>Population Factor</th>\n",
       "      <th>Congestion Factor</th>\n",
       "      <th>Sprawl Factor</th>\n",
       "      <th>Network Density Factor</th>\n",
       "    </tr>\n",
       "  </thead>\n",
       "  <tbody>\n",
       "    <tr>\n",
       "      <th>0</th>\n",
       "      <td>98</td>\n",
       "      <td>Hamburg</td>\n",
       "      <td>99</td>\n",
       "      <td>9</td>\n",
       "      <td>MassTransit Heavyweight</td>\n",
       "      <td>Germany</td>\n",
       "      <td>42.00</td>\n",
       "      <td>18.00</td>\n",
       "      <td>12</td>\n",
       "      <td>28.00</td>\n",
       "      <td>...</td>\n",
       "      <td>0.016812</td>\n",
       "      <td>0.667477</td>\n",
       "      <td>0.273596</td>\n",
       "      <td>0.437481</td>\n",
       "      <td>0.747204</td>\n",
       "      <td>0.536597</td>\n",
       "      <td>0.035424</td>\n",
       "      <td>0.357805</td>\n",
       "      <td>0.313441</td>\n",
       "      <td>0.231415</td>\n",
       "    </tr>\n",
       "    <tr>\n",
       "      <th>1</th>\n",
       "      <td>99</td>\n",
       "      <td>Munich</td>\n",
       "      <td>100</td>\n",
       "      <td>9</td>\n",
       "      <td>MassTransit Heavyweight</td>\n",
       "      <td>Germany</td>\n",
       "      <td>37.00</td>\n",
       "      <td>21.00</td>\n",
       "      <td>14</td>\n",
       "      <td>28.00</td>\n",
       "      <td>...</td>\n",
       "      <td>0.021030</td>\n",
       "      <td>0.674947</td>\n",
       "      <td>0.142531</td>\n",
       "      <td>0.433690</td>\n",
       "      <td>0.779353</td>\n",
       "      <td>0.599366</td>\n",
       "      <td>0.033533</td>\n",
       "      <td>0.354032</td>\n",
       "      <td>0.236366</td>\n",
       "      <td>0.429755</td>\n",
       "    </tr>\n",
       "    <tr>\n",
       "      <th>2</th>\n",
       "      <td>101</td>\n",
       "      <td>Frankfurt</td>\n",
       "      <td>102</td>\n",
       "      <td>10</td>\n",
       "      <td>MassTransit Moderate</td>\n",
       "      <td>Germany</td>\n",
       "      <td>38.00</td>\n",
       "      <td>20.00</td>\n",
       "      <td>11</td>\n",
       "      <td>31.00</td>\n",
       "      <td>...</td>\n",
       "      <td>0.033763</td>\n",
       "      <td>0.080828</td>\n",
       "      <td>0.131759</td>\n",
       "      <td>0.403807</td>\n",
       "      <td>0.741574</td>\n",
       "      <td>0.625617</td>\n",
       "      <td>0.044672</td>\n",
       "      <td>0.323014</td>\n",
       "      <td>0.323657</td>\n",
       "      <td>0.342305</td>\n",
       "    </tr>\n",
       "    <tr>\n",
       "      <th>3</th>\n",
       "      <td>182</td>\n",
       "      <td>Rotterdam-Hague</td>\n",
       "      <td>183</td>\n",
       "      <td>10</td>\n",
       "      <td>MassTransit Moderate</td>\n",
       "      <td>Netherlands</td>\n",
       "      <td>49.00</td>\n",
       "      <td>17.00</td>\n",
       "      <td>16</td>\n",
       "      <td>18.00</td>\n",
       "      <td>...</td>\n",
       "      <td>NaN</td>\n",
       "      <td>0.356458</td>\n",
       "      <td>0.164029</td>\n",
       "      <td>0.484939</td>\n",
       "      <td>0.750362</td>\n",
       "      <td>0.540186</td>\n",
       "      <td>0.035450</td>\n",
       "      <td>0.204339</td>\n",
       "      <td>0.193488</td>\n",
       "      <td>0.508605</td>\n",
       "    </tr>\n",
       "    <tr>\n",
       "      <th>4</th>\n",
       "      <td>238</td>\n",
       "      <td>Zurich</td>\n",
       "      <td>239</td>\n",
       "      <td>10</td>\n",
       "      <td>MassTransit Moderate</td>\n",
       "      <td>Switzerland</td>\n",
       "      <td>42.92</td>\n",
       "      <td>46.31</td>\n",
       "      <td>4.14</td>\n",
       "      <td>5.65</td>\n",
       "      <td>...</td>\n",
       "      <td>0.025206</td>\n",
       "      <td>0.090735</td>\n",
       "      <td>0.346604</td>\n",
       "      <td>0.163072</td>\n",
       "      <td>1.000000</td>\n",
       "      <td>0.575431</td>\n",
       "      <td>0.025346</td>\n",
       "      <td>0.388853</td>\n",
       "      <td>0.185876</td>\n",
       "      <td>0.453369</td>\n",
       "    </tr>\n",
       "  </tbody>\n",
       "</table>\n",
       "<p>5 rows × 79 columns</p>\n",
       "</div>"
      ],
      "text/plain": [
       "   index             City  cityID  clusterID                 Typology  \\\n",
       "0     98          Hamburg      99          9  MassTransit Heavyweight   \n",
       "1     99           Munich     100          9  MassTransit Heavyweight   \n",
       "2    101        Frankfurt     102         10     MassTransit Moderate   \n",
       "3    182  Rotterdam-Hague     183         10     MassTransit Moderate   \n",
       "4    238           Zurich     239         10     MassTransit Moderate   \n",
       "\n",
       "       Country  Car Modeshare (%)  Public Transit Modeshare (%)  \\\n",
       "0      Germany              42.00                         18.00   \n",
       "1      Germany              37.00                         21.00   \n",
       "2      Germany              38.00                         20.00   \n",
       "3  Netherlands              49.00                         17.00   \n",
       "4  Switzerland              42.92                         46.31   \n",
       "\n",
       "  Bicycle Modeshare (%)  Walking Modeshare (%)  ...  Highway Proportion  \\\n",
       "0                    12                  28.00  ...            0.016812   \n",
       "1                    14                  28.00  ...            0.021030   \n",
       "2                    11                  31.00  ...            0.033763   \n",
       "3                    16                  18.00  ...                 NaN   \n",
       "4                  4.14                   5.65  ...            0.025206   \n",
       "\n",
       "   Metro Propensity Factor  BRT Propensity Factor  \\\n",
       "0                 0.667477               0.273596   \n",
       "1                 0.674947               0.142531   \n",
       "2                 0.080828               0.131759   \n",
       "3                 0.356458               0.164029   \n",
       "4                 0.090735               0.346604   \n",
       "\n",
       "   BikeShare Propensity Factor  Development Factor  Sustainability Factor  \\\n",
       "0                     0.437481            0.747204               0.536597   \n",
       "1                     0.433690            0.779353               0.599366   \n",
       "2                     0.403807            0.741574               0.625617   \n",
       "3                     0.484939            0.750362               0.540186   \n",
       "4                     0.163072            1.000000               0.575431   \n",
       "\n",
       "   Population Factor  Congestion Factor  Sprawl Factor  Network Density Factor  \n",
       "0           0.035424           0.357805       0.313441                0.231415  \n",
       "1           0.033533           0.354032       0.236366                0.429755  \n",
       "2           0.044672           0.323014       0.323657                0.342305  \n",
       "3           0.035450           0.204339       0.193488                0.508605  \n",
       "4           0.025346           0.388853       0.185876                0.453369  \n",
       "\n",
       "[5 rows x 79 columns]"
      ]
     },
     "execution_count": 30,
     "metadata": {},
     "output_type": "execute_result"
    }
   ],
   "source": [
    "citylist = ['Munich', 'Rotterdam-Hague', 'Frankfurt', 'Hamburg', 'Zurich']\n",
    "UrbanTypo = pd.read_excel('Data/FINAL-COMBINED-DATASET.xlsx')\n",
    "Cities = UrbanTypo.loc[(UrbanTypo.City.isin(citylist))]\n",
    "Cities.reset_index(inplace = True)\n",
    "Cities.head()"
   ]
  },
  {
   "cell_type": "code",
   "execution_count": 31,
   "metadata": {},
   "outputs": [
    {
     "name": "stdout",
     "output_type": "stream",
     "text": [
      "index\n",
      "City\n",
      "cityID\n",
      "clusterID\n",
      "Typology\n",
      "Country\n",
      "Car Modeshare (%)\n",
      "Public Transit Modeshare (%)\n",
      "Bicycle Modeshare (%)\n",
      "Walking Modeshare (%)\n",
      "Gasoline Pump Price (USD/liter)\n",
      "Road Deaths Rate (per 1000)\n",
      "Subway Length (km)\n",
      "Subway Length Density (per km)\n",
      "Subway Stations per Hundred Thousand\n",
      "Subway Ridership per Capita\n",
      "Subway Age (years)\n",
      "BRT Length (km)\n",
      "BRT System Length Density (per km)\n",
      "BRT Stations per Hundred Thousand Persons\n",
      "BRT Fleet per Hundred Thousand Persons\n",
      "BRT Annual Ridership per Capita\n",
      "BRT Age (years)\n",
      "Bikeshare Stations\n",
      "Bikeshare Stations per Hundred Thousand Persons\n",
      "Bikeshare Number of Bikes\n",
      "Bikeshare Bicycles per Hundred Thousand Persons\n",
      "Bikeshare Age (years)\n",
      "Congestion (%)\n",
      "Congestion AM Peak (%)\n",
      "Congestion PM Peak (%)\n",
      "Traffic Index\n",
      "Travel Time Index\n",
      "Inefficiency Index\n",
      "Population\n",
      "Land Area (sq. km)\n",
      "Population Density (per sq. km)\n",
      "Population Change 1990 – 2000\n",
      "Population Change 2000 – 2010\n",
      "Population Change 2010 – 2020\n",
      "Population Change 2020 – 2025\n",
      "Urbanization Rate 2015 (%)\n",
      "Urbanization Rate Change 2015 – 2025 (pp)\n",
      "GDP per Capita (USD)\n",
      "Unemployment Rate (%)\n",
      "Cost of Living Index\n",
      "Rent Index\n",
      "Grocery Index\n",
      "Restaurant Price Index\n",
      "Local Purchasing Power Index\n",
      "Gini Coefficient\n",
      "Poverty Rate (%)\n",
      "Life Expectancy (years)\n",
      "Safety Index\n",
      "Internet Penetration\n",
      "Digital Penetration\n",
      "Innovation Index\n",
      "Smartphone Penetration (%)\n",
      "CO2 Emissions per Capita (metric tonnes)\n",
      "Pollution Index \n",
      "Street length total (m)\n",
      "Street Length Density (m/sq. km)\n",
      "Street Length Average (m)\n",
      "Intersection Count\n",
      "Intersection Density (per sq. km)\n",
      "Degree Average\n",
      "Streets per Node\n",
      "Circuity\n",
      "Self-Loop Proportion\n",
      "Highway Proportion\n",
      "Metro Propensity Factor\n",
      "BRT Propensity Factor\n",
      "BikeShare Propensity Factor\n",
      "Development Factor\n",
      "Sustainability Factor\n",
      "Population Factor\n",
      "Congestion Factor\n",
      "Sprawl Factor\n",
      "Network Density Factor\n"
     ]
    }
   ],
   "source": [
    "for i in Cities.columns:\n",
    "    print(i)"
   ]
  },
  {
   "cell_type": "markdown",
   "metadata": {},
   "source": [
    "After inspecting columns, sustainability appears to be expressed by the factors on a logical and comparable scale. Those are therefore chosen to be aggegrated. Let's subset those columns."
   ]
  },
  {
   "cell_type": "code",
   "execution_count": 32,
   "metadata": {},
   "outputs": [
    {
     "data": {
      "text/html": [
       "<div>\n",
       "<style scoped>\n",
       "    .dataframe tbody tr th:only-of-type {\n",
       "        vertical-align: middle;\n",
       "    }\n",
       "\n",
       "    .dataframe tbody tr th {\n",
       "        vertical-align: top;\n",
       "    }\n",
       "\n",
       "    .dataframe thead th {\n",
       "        text-align: right;\n",
       "    }\n",
       "</style>\n",
       "<table border=\"1\" class=\"dataframe\">\n",
       "  <thead>\n",
       "    <tr style=\"text-align: right;\">\n",
       "      <th></th>\n",
       "      <th>Metro Propensity Factor</th>\n",
       "      <th>BRT Propensity Factor</th>\n",
       "      <th>BikeShare Propensity Factor</th>\n",
       "      <th>Development Factor</th>\n",
       "      <th>Sustainability Factor</th>\n",
       "      <th>Population Factor</th>\n",
       "      <th>Congestion Factor</th>\n",
       "      <th>Sprawl Factor</th>\n",
       "      <th>Network Density Factor</th>\n",
       "    </tr>\n",
       "  </thead>\n",
       "  <tbody>\n",
       "    <tr>\n",
       "      <th>0</th>\n",
       "      <td>0.667477</td>\n",
       "      <td>0.273596</td>\n",
       "      <td>0.437481</td>\n",
       "      <td>0.747204</td>\n",
       "      <td>0.536597</td>\n",
       "      <td>0.035424</td>\n",
       "      <td>0.357805</td>\n",
       "      <td>0.313441</td>\n",
       "      <td>0.231415</td>\n",
       "    </tr>\n",
       "    <tr>\n",
       "      <th>1</th>\n",
       "      <td>0.674947</td>\n",
       "      <td>0.142531</td>\n",
       "      <td>0.433690</td>\n",
       "      <td>0.779353</td>\n",
       "      <td>0.599366</td>\n",
       "      <td>0.033533</td>\n",
       "      <td>0.354032</td>\n",
       "      <td>0.236366</td>\n",
       "      <td>0.429755</td>\n",
       "    </tr>\n",
       "    <tr>\n",
       "      <th>2</th>\n",
       "      <td>0.080828</td>\n",
       "      <td>0.131759</td>\n",
       "      <td>0.403807</td>\n",
       "      <td>0.741574</td>\n",
       "      <td>0.625617</td>\n",
       "      <td>0.044672</td>\n",
       "      <td>0.323014</td>\n",
       "      <td>0.323657</td>\n",
       "      <td>0.342305</td>\n",
       "    </tr>\n",
       "    <tr>\n",
       "      <th>3</th>\n",
       "      <td>0.356458</td>\n",
       "      <td>0.164029</td>\n",
       "      <td>0.484939</td>\n",
       "      <td>0.750362</td>\n",
       "      <td>0.540186</td>\n",
       "      <td>0.035450</td>\n",
       "      <td>0.204339</td>\n",
       "      <td>0.193488</td>\n",
       "      <td>0.508605</td>\n",
       "    </tr>\n",
       "    <tr>\n",
       "      <th>4</th>\n",
       "      <td>0.090735</td>\n",
       "      <td>0.346604</td>\n",
       "      <td>0.163072</td>\n",
       "      <td>1.000000</td>\n",
       "      <td>0.575431</td>\n",
       "      <td>0.025346</td>\n",
       "      <td>0.388853</td>\n",
       "      <td>0.185876</td>\n",
       "      <td>0.453369</td>\n",
       "    </tr>\n",
       "  </tbody>\n",
       "</table>\n",
       "</div>"
      ],
      "text/plain": [
       "   Metro Propensity Factor  BRT Propensity Factor  \\\n",
       "0                 0.667477               0.273596   \n",
       "1                 0.674947               0.142531   \n",
       "2                 0.080828               0.131759   \n",
       "3                 0.356458               0.164029   \n",
       "4                 0.090735               0.346604   \n",
       "\n",
       "   BikeShare Propensity Factor  Development Factor  Sustainability Factor  \\\n",
       "0                     0.437481            0.747204               0.536597   \n",
       "1                     0.433690            0.779353               0.599366   \n",
       "2                     0.403807            0.741574               0.625617   \n",
       "3                     0.484939            0.750362               0.540186   \n",
       "4                     0.163072            1.000000               0.575431   \n",
       "\n",
       "   Population Factor  Congestion Factor  Sprawl Factor  Network Density Factor  \n",
       "0           0.035424           0.357805       0.313441                0.231415  \n",
       "1           0.033533           0.354032       0.236366                0.429755  \n",
       "2           0.044672           0.323014       0.323657                0.342305  \n",
       "3           0.035450           0.204339       0.193488                0.508605  \n",
       "4           0.025346           0.388853       0.185876                0.453369  "
      ]
     },
     "execution_count": 32,
     "metadata": {},
     "output_type": "execute_result"
    }
   ],
   "source": [
    "Cities_for_pca=Cities.iloc[:,70:79]\n",
    "Cities_for_pca.head()"
   ]
  },
  {
   "cell_type": "markdown",
   "metadata": {},
   "source": [
    "First we have to std the values https://towardsdatascience.com/pca-using-python-scikit-learn-e653f8989e60"
   ]
  },
  {
   "cell_type": "code",
   "execution_count": 41,
   "metadata": {},
   "outputs": [],
   "source": [
    "#standardize values\n",
    "Cities_for_pca_std=Cities_for_pca\n",
    "\n",
    "for i in range(len(Cities_for_pca.columns)):\n",
    "    Cities_for_pca_std.iloc[:,i] = (Cities_for_pca.iloc[:,i] - Cities_for_pca.iloc[:,i].mean()) / Cities_for_pca.iloc[:,i].std()\n"
   ]
  },
  {
   "cell_type": "code",
   "execution_count": 47,
   "metadata": {},
   "outputs": [],
   "source": [
    "cities_for_pca_std=grouped_cities\n",
    "\n",
    "for i in range(len(grouped_cities.columns)):\n",
    "    cities_for_pca_std.iloc[:,i] = (grouped_cities.iloc[:,i] - grouped_cities.iloc[:,i].mean()) / grouped_cities.iloc[:,i].std()\n"
   ]
  },
  {
   "cell_type": "code",
   "execution_count": 61,
   "metadata": {},
   "outputs": [],
   "source": [
    "from sklearn import preprocessing\n",
    "# Get column names first\n",
    "names = grouped_cities.columns\n",
    "# Create the Scaler object\n",
    "scaler = preprocessing.StandardScaler()\n",
    "# Fit your data on the scaler object\n",
    "scaled_df = scaler.fit_transform(grouped_cities)\n",
    "scaled_df = pd.DataFrame(scaled_df, columns=names)"
   ]
  },
  {
   "cell_type": "code",
   "execution_count": 62,
   "metadata": {},
   "outputs": [
    {
     "data": {
      "text/html": [
       "<div>\n",
       "<style scoped>\n",
       "    .dataframe tbody tr th:only-of-type {\n",
       "        vertical-align: middle;\n",
       "    }\n",
       "\n",
       "    .dataframe tbody tr th {\n",
       "        vertical-align: top;\n",
       "    }\n",
       "\n",
       "    .dataframe thead th {\n",
       "        text-align: right;\n",
       "    }\n",
       "</style>\n",
       "<table border=\"1\" class=\"dataframe\">\n",
       "  <thead>\n",
       "    <tr style=\"text-align: right;\">\n",
       "      <th></th>\n",
       "      <th>station</th>\n",
       "      <th>cycleway</th>\n",
       "      <th>footway</th>\n",
       "      <th>pedestrian</th>\n",
       "      <th>flow</th>\n",
       "    </tr>\n",
       "    <tr>\n",
       "      <th>City</th>\n",
       "      <th></th>\n",
       "      <th></th>\n",
       "      <th></th>\n",
       "      <th></th>\n",
       "      <th></th>\n",
       "    </tr>\n",
       "  </thead>\n",
       "  <tbody>\n",
       "    <tr>\n",
       "      <th>frankfurt</th>\n",
       "      <td>1.214286</td>\n",
       "      <td>1.223214</td>\n",
       "      <td>54.294643</td>\n",
       "      <td>1.973214</td>\n",
       "      <td>226.951107</td>\n",
       "    </tr>\n",
       "    <tr>\n",
       "      <th>hamburg</th>\n",
       "      <td>0.516746</td>\n",
       "      <td>3.447368</td>\n",
       "      <td>79.177033</td>\n",
       "      <td>7.459330</td>\n",
       "      <td>141.613203</td>\n",
       "    </tr>\n",
       "    <tr>\n",
       "      <th>munich</th>\n",
       "      <td>0.396154</td>\n",
       "      <td>7.700000</td>\n",
       "      <td>55.665385</td>\n",
       "      <td>1.882692</td>\n",
       "      <td>225.638097</td>\n",
       "    </tr>\n",
       "    <tr>\n",
       "      <th>rotterdam</th>\n",
       "      <td>0.185328</td>\n",
       "      <td>15.880309</td>\n",
       "      <td>21.660232</td>\n",
       "      <td>2.895753</td>\n",
       "      <td>260.080099</td>\n",
       "    </tr>\n",
       "    <tr>\n",
       "      <th>zurich</th>\n",
       "      <td>0.204902</td>\n",
       "      <td>2.983333</td>\n",
       "      <td>80.363725</td>\n",
       "      <td>3.173529</td>\n",
       "      <td>207.440305</td>\n",
       "    </tr>\n",
       "  </tbody>\n",
       "</table>\n",
       "</div>"
      ],
      "text/plain": [
       "            station   cycleway    footway  pedestrian        flow\n",
       "City                                                             \n",
       "frankfurt  1.214286   1.223214  54.294643    1.973214  226.951107\n",
       "hamburg    0.516746   3.447368  79.177033    7.459330  141.613203\n",
       "munich     0.396154   7.700000  55.665385    1.882692  225.638097\n",
       "rotterdam  0.185328  15.880309  21.660232    2.895753  260.080099\n",
       "zurich     0.204902   2.983333  80.363725    3.173529  207.440305"
      ]
     },
     "execution_count": 62,
     "metadata": {},
     "output_type": "execute_result"
    }
   ],
   "source": [
    "grouped_cities.head()"
   ]
  },
  {
   "cell_type": "code",
   "execution_count": 76,
   "metadata": {},
   "outputs": [
    {
     "data": {
      "text/plain": [
       "0   -14.444328\n",
       "1    72.853864\n",
       "2   -13.204283\n",
       "3   -59.490759\n",
       "4    14.285506\n",
       "Name: Standardized aggegrated value, dtype: float64"
      ]
     },
     "execution_count": 76,
     "metadata": {},
     "output_type": "execute_result"
    }
   ],
   "source": [
    "pca = PCA(n_components=1) # we want 1 component\n",
    "principalComponents = pca.fit_transform(grouped_cities)#lets fit\n",
    "\n",
    "principalDf1 = pd.DataFrame(data = principalComponents\n",
    "             , columns = ['Standardized aggegrated value'])\n",
    "principalDf1['Standardized aggegrated value']"
   ]
  },
  {
   "cell_type": "code",
   "execution_count": 70,
   "metadata": {},
   "outputs": [
    {
     "data": {
      "text/plain": [
       "array([0.92997462])"
      ]
     },
     "execution_count": 70,
     "metadata": {},
     "output_type": "execute_result"
    }
   ],
   "source": [
    "eigenValues = pca.explained_variance_ratio_\n",
    "eigenValues"
   ]
  },
  {
   "cell_type": "code",
   "execution_count": 68,
   "metadata": {},
   "outputs": [
    {
     "ename": "AttributeError",
     "evalue": "'DataFrame' object has no attribute 'feature_names'",
     "output_type": "error",
     "traceback": [
      "\u001b[1;31m---------------------------------------------------------------------------\u001b[0m",
      "\u001b[1;31mAttributeError\u001b[0m                            Traceback (most recent call last)",
      "\u001b[1;32m<ipython-input-68-66eb8d1d04a3>\u001b[0m in \u001b[0;36m<module>\u001b[1;34m\u001b[0m\n\u001b[0;32m      1\u001b[0m \u001b[0mloadings\u001b[0m \u001b[1;33m=\u001b[0m \u001b[0mpca\u001b[0m\u001b[1;33m.\u001b[0m\u001b[0mcomponents_\u001b[0m\u001b[1;33m.\u001b[0m\u001b[0mT\u001b[0m \u001b[1;33m*\u001b[0m \u001b[0mnp\u001b[0m\u001b[1;33m.\u001b[0m\u001b[0msqrt\u001b[0m\u001b[1;33m(\u001b[0m\u001b[0mpca\u001b[0m\u001b[1;33m.\u001b[0m\u001b[0mexplained_variance_\u001b[0m\u001b[1;33m)\u001b[0m\u001b[1;33m\u001b[0m\u001b[1;33m\u001b[0m\u001b[0m\n\u001b[0;32m      2\u001b[0m \u001b[1;33m\u001b[0m\u001b[0m\n\u001b[1;32m----> 3\u001b[1;33m \u001b[0mloading_matrix\u001b[0m \u001b[1;33m=\u001b[0m \u001b[0mpd\u001b[0m\u001b[1;33m.\u001b[0m\u001b[0mDataFrame\u001b[0m\u001b[1;33m(\u001b[0m\u001b[0mloadings\u001b[0m\u001b[1;33m,\u001b[0m \u001b[0mcolumns\u001b[0m\u001b[1;33m=\u001b[0m\u001b[1;33m[\u001b[0m\u001b[1;34m'PC1'\u001b[0m\u001b[1;33m]\u001b[0m\u001b[1;33m,\u001b[0m \u001b[0mindex\u001b[0m\u001b[1;33m=\u001b[0m\u001b[0mgrouped_cities\u001b[0m\u001b[1;33m.\u001b[0m\u001b[0mfeature_names\u001b[0m\u001b[1;33m)\u001b[0m\u001b[1;33m\u001b[0m\u001b[1;33m\u001b[0m\u001b[0m\n\u001b[0m\u001b[0;32m      4\u001b[0m \u001b[0mloading_matrix\u001b[0m\u001b[1;33m\u001b[0m\u001b[1;33m\u001b[0m\u001b[0m\n",
      "\u001b[1;32m~\\Anaconda3\\envs\\gds\\lib\\site-packages\\pandas\\core\\generic.py\u001b[0m in \u001b[0;36m__getattr__\u001b[1;34m(self, name)\u001b[0m\n\u001b[0;32m   5128\u001b[0m             \u001b[1;32mif\u001b[0m \u001b[0mself\u001b[0m\u001b[1;33m.\u001b[0m\u001b[0m_info_axis\u001b[0m\u001b[1;33m.\u001b[0m\u001b[0m_can_hold_identifiers_and_holds_name\u001b[0m\u001b[1;33m(\u001b[0m\u001b[0mname\u001b[0m\u001b[1;33m)\u001b[0m\u001b[1;33m:\u001b[0m\u001b[1;33m\u001b[0m\u001b[1;33m\u001b[0m\u001b[0m\n\u001b[0;32m   5129\u001b[0m                 \u001b[1;32mreturn\u001b[0m \u001b[0mself\u001b[0m\u001b[1;33m[\u001b[0m\u001b[0mname\u001b[0m\u001b[1;33m]\u001b[0m\u001b[1;33m\u001b[0m\u001b[1;33m\u001b[0m\u001b[0m\n\u001b[1;32m-> 5130\u001b[1;33m             \u001b[1;32mreturn\u001b[0m \u001b[0mobject\u001b[0m\u001b[1;33m.\u001b[0m\u001b[0m__getattribute__\u001b[0m\u001b[1;33m(\u001b[0m\u001b[0mself\u001b[0m\u001b[1;33m,\u001b[0m \u001b[0mname\u001b[0m\u001b[1;33m)\u001b[0m\u001b[1;33m\u001b[0m\u001b[1;33m\u001b[0m\u001b[0m\n\u001b[0m\u001b[0;32m   5131\u001b[0m \u001b[1;33m\u001b[0m\u001b[0m\n\u001b[0;32m   5132\u001b[0m     \u001b[1;32mdef\u001b[0m \u001b[0m__setattr__\u001b[0m\u001b[1;33m(\u001b[0m\u001b[0mself\u001b[0m\u001b[1;33m,\u001b[0m \u001b[0mname\u001b[0m\u001b[1;33m:\u001b[0m \u001b[0mstr\u001b[0m\u001b[1;33m,\u001b[0m \u001b[0mvalue\u001b[0m\u001b[1;33m)\u001b[0m \u001b[1;33m->\u001b[0m \u001b[1;32mNone\u001b[0m\u001b[1;33m:\u001b[0m\u001b[1;33m\u001b[0m\u001b[1;33m\u001b[0m\u001b[0m\n",
      "\u001b[1;31mAttributeError\u001b[0m: 'DataFrame' object has no attribute 'feature_names'"
     ]
    }
   ],
   "source": [
    "loadings = pca.components_.T * np.sqrt(pca.explained_variance_)\n",
    "\n",
    "loading_matrix = pd.DataFrame(loadings, columns=['PC1'], index=grouped_cities.feature_names)\n",
    "loading_matrix"
   ]
  },
  {
   "cell_type": "code",
   "execution_count": 74,
   "metadata": {},
   "outputs": [
    {
     "data": {
      "text/html": [
       "<div>\n",
       "<style scoped>\n",
       "    .dataframe tbody tr th:only-of-type {\n",
       "        vertical-align: middle;\n",
       "    }\n",
       "\n",
       "    .dataframe tbody tr th {\n",
       "        vertical-align: top;\n",
       "    }\n",
       "\n",
       "    .dataframe thead th {\n",
       "        text-align: right;\n",
       "    }\n",
       "</style>\n",
       "<table border=\"1\" class=\"dataframe\">\n",
       "  <thead>\n",
       "    <tr style=\"text-align: right;\">\n",
       "      <th></th>\n",
       "      <th>Non standardized aggegrated value</th>\n",
       "    </tr>\n",
       "  </thead>\n",
       "  <tbody>\n",
       "    <tr>\n",
       "      <th>0</th>\n",
       "      <td>-14.444328</td>\n",
       "    </tr>\n",
       "    <tr>\n",
       "      <th>1</th>\n",
       "      <td>72.853864</td>\n",
       "    </tr>\n",
       "    <tr>\n",
       "      <th>2</th>\n",
       "      <td>-13.204283</td>\n",
       "    </tr>\n",
       "    <tr>\n",
       "      <th>3</th>\n",
       "      <td>-59.490759</td>\n",
       "    </tr>\n",
       "    <tr>\n",
       "      <th>4</th>\n",
       "      <td>14.285506</td>\n",
       "    </tr>\n",
       "  </tbody>\n",
       "</table>\n",
       "</div>"
      ],
      "text/plain": [
       "   Non standardized aggegrated value\n",
       "0                         -14.444328\n",
       "1                          72.853864\n",
       "2                         -13.204283\n",
       "3                         -59.490759\n",
       "4                          14.285506"
      ]
     },
     "execution_count": 74,
     "metadata": {},
     "output_type": "execute_result"
    }
   ],
   "source": [
    "#What if we dont standardize?\n",
    "pca = PCA(n_components=1) # we want 1 component\n",
    "principalComponents = pca.fit_transform(grouped_cities)#lets fit\n",
    "\n",
    "principalDf2 = pd.DataFrame(data = principalComponents\n",
    "             , columns = ['Non standardized aggegrated value'])\n",
    "principalDf2.head()"
   ]
  },
  {
   "cell_type": "code",
   "execution_count": 79,
   "metadata": {},
   "outputs": [
    {
     "data": {
      "text/plain": [
       "<AxesSubplot:xlabel='Standardized aggegrated value', ylabel='Sustainability Factor'>"
      ]
     },
     "execution_count": 79,
     "metadata": {},
     "output_type": "execute_result"
    },
    {
     "data": {
      "image/png": "[encoded data removed]",
      "text/plain": [
       "<Figure size 432x288 with 1 Axes>"
      ]
     },
     "metadata": {
      "needs_background": "light"
     },
     "output_type": "display_data"
    }
   ],
   "source": [
    "sns.regplot(x=principalDf1['Standardized aggegrated value'], y=Cities_for_pca['Sustainability Factor'] )"
   ]
  },
  {
   "cell_type": "code",
   "execution_count": 78,
   "metadata": {},
   "outputs": [
    {
     "name": "stdout",
     "output_type": "stream",
     "text": [
      "Index(['Metro Propensity Factor', 'BRT Propensity Factor',\n",
      "       'BikeShare Propensity Factor', 'Development Factor',\n",
      "       'Sustainability Factor', 'Population Factor', 'Congestion Factor',\n",
      "       'Sprawl Factor', 'Network Density Factor'],\n",
      "      dtype='object')\n"
     ]
    }
   ],
   "source": [
    "print(Cities_for_pca.columns)"
   ]
  },
  {
   "cell_type": "code",
   "execution_count": null,
   "metadata": {},
   "outputs": [],
   "source": []
  }
 ],
 "metadata": {
  "kernelspec": {
   "display_name": "Python 3",
   "language": "python",
   "name": "python3"
  },
  "language_info": {
   "codemirror_mode": {
    "name": "ipython",
    "version": 3
   },
   "file_extension": ".py",
   "mimetype": "text/x-python",
   "name": "python",
   "nbconvert_exporter": "python",
   "pygments_lexer": "ipython3",
   "version": "3.7.8"
  }
 },
 "nbformat": 4,
 "nbformat_minor": 4
}
